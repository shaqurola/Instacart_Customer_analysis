{
 "cells": [
  {
   "cell_type": "markdown",
   "id": "d78b7ec3",
   "metadata": {},
   "source": [
    "IMPORTING OF LIBRARIES"
   ]
  },
  {
   "cell_type": "code",
   "execution_count": 1,
   "id": "88427bb9",
   "metadata": {},
   "outputs": [],
   "source": [
    "#importing of libraries\n",
    "import pandas as pd\n",
    "import numpy as np\n",
    "import os"
   ]
  },
  {
   "cell_type": "markdown",
   "id": "05b0fc10",
   "metadata": {},
   "source": [
    "Different ways of reaching a result of 100 by adding or subtracting numeric variables"
   ]
  },
  {
   "cell_type": "code",
   "execution_count": 12,
   "id": "a08dc2d8",
   "metadata": {},
   "outputs": [
    {
     "name": "stdout",
     "output_type": "stream",
     "text": [
      "100\n"
     ]
    }
   ],
   "source": [
    "a = 500\n",
    "b = 400\n",
    "Result1 = a-b\n",
    "print(Result)"
   ]
  },
  {
   "cell_type": "code",
   "execution_count": 8,
   "id": "5fac8abf",
   "metadata": {},
   "outputs": [
    {
     "name": "stdout",
     "output_type": "stream",
     "text": [
      "100\n"
     ]
    }
   ],
   "source": [
    "#2\n",
    "c = 50\n",
    "d = 50\n",
    "Result2 = c+d\n",
    "print (Result2)"
   ]
  },
  {
   "cell_type": "code",
   "execution_count": 11,
   "id": "a8ae7123",
   "metadata": {
    "scrolled": true
   },
   "outputs": [
    {
     "name": "stdout",
     "output_type": "stream",
     "text": [
      "100\n"
     ]
    }
   ],
   "source": [
    "#3\n",
    "e = 40\n",
    "f = 60\n",
    "Result3 = e+f\n",
    "print (Result3)"
   ]
  },
  {
   "cell_type": "markdown",
   "id": "6b590a36",
   "metadata": {},
   "source": [
    "Code 2 floating-point variables and divide them by each other."
   ]
  },
  {
   "cell_type": "code",
   "execution_count": 13,
   "id": "4dc7ba1d",
   "metadata": {
    "scrolled": true
   },
   "outputs": [
    {
     "name": "stdout",
     "output_type": "stream",
     "text": [
      "0.19396393080603605\n"
     ]
    }
   ],
   "source": [
    "\n",
    "Height = 10.54\n",
    "Weight = 54.34\n",
    "Result4 = Height/Weight\n",
    "print (Result4)"
   ]
  },
  {
   "cell_type": "markdown",
   "id": "c9684cdb",
   "metadata": {},
   "source": [
    "Construct a short word made of separate strings (you’ll need to concatenate some strings!)."
   ]
  },
  {
   "cell_type": "code",
   "execution_count": 16,
   "id": "4215e278",
   "metadata": {},
   "outputs": [
    {
     "name": "stdout",
     "output_type": "stream",
     "text": [
      "Wellcome to Germany \n"
     ]
    }
   ],
   "source": [
    "F = 'Wellcome to '\n",
    "G = 'Germany '\n",
    "Result6 = F+G\n",
    "print (Result6)"
   ]
  },
  {
   "cell_type": "markdown",
   "id": "7498ae3c",
   "metadata": {},
   "source": [
    "Construct 2 short sentences made of separate strings"
   ]
  },
  {
   "cell_type": "code",
   "execution_count": 17,
   "id": "d55dea7b",
   "metadata": {},
   "outputs": [
    {
     "name": "stdout",
     "output_type": "stream",
     "text": [
      "I am from Africa and  Nigeria is the most populous black nation \n"
     ]
    }
   ],
   "source": [
    "k = 'I am from Africa and  '\n",
    "v = 'Nigeria is the most populous black nation '\n",
    "Result6 = k+v\n",
    "print (Result6)"
   ]
  },
  {
   "cell_type": "markdown",
   "id": "12375d2e",
   "metadata": {},
   "source": [
    "Bonus Task\n",
    "\n",
    "At the bottom of your file, include a command that makes a string appear 100 times."
   ]
  },
  {
   "cell_type": "code",
   "execution_count": 19,
   "id": "a98e0a1a",
   "metadata": {},
   "outputs": [
    {
     "name": "stdout",
     "output_type": "stream",
     "text": [
      "IPHONEIPHONEIPHONEIPHONEIPHONEIPHONEIPHONEIPHONEIPHONEIPHONEIPHONEIPHONEIPHONEIPHONEIPHONEIPHONEIPHONEIPHONEIPHONEIPHONEIPHONEIPHONEIPHONEIPHONEIPHONEIPHONEIPHONEIPHONEIPHONEIPHONEIPHONEIPHONEIPHONEIPHONEIPHONEIPHONEIPHONEIPHONEIPHONEIPHONEIPHONEIPHONEIPHONEIPHONEIPHONEIPHONEIPHONEIPHONEIPHONEIPHONEIPHONEIPHONEIPHONEIPHONEIPHONEIPHONEIPHONEIPHONEIPHONEIPHONEIPHONEIPHONEIPHONEIPHONEIPHONEIPHONEIPHONEIPHONEIPHONEIPHONEIPHONEIPHONEIPHONEIPHONEIPHONEIPHONEIPHONEIPHONEIPHONEIPHONEIPHONEIPHONEIPHONEIPHONEIPHONEIPHONEIPHONEIPHONEIPHONEIPHONEIPHONEIPHONEIPHONEIPHONEIPHONEIPHONEIPHONEIPHONEIPHONEIPHONE\n"
     ]
    }
   ],
   "source": [
    "y = 'IPHONE'\n",
    "Result10 = y * 100\n",
    "\n",
    "print (Result10)"
   ]
  },
  {
   "cell_type": "code",
   "execution_count": null,
   "id": "9cf0f3c1",
   "metadata": {},
   "outputs": [],
   "source": []
  }
 ],
 "metadata": {
  "kernelspec": {
   "display_name": "Python 3 (ipykernel)",
   "language": "python",
   "name": "python3"
  },
  "language_info": {
   "codemirror_mode": {
    "name": "ipython",
    "version": 3
   },
   "file_extension": ".py",
   "mimetype": "text/x-python",
   "name": "python",
   "nbconvert_exporter": "python",
   "pygments_lexer": "ipython3",
   "version": "3.10.10"
  }
 },
 "nbformat": 4,
 "nbformat_minor": 5
}
