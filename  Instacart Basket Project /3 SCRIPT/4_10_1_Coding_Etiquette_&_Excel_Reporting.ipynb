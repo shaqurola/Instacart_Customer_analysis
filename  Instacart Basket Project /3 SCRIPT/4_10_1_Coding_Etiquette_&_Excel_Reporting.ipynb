{
 "cells": [
  {
   "cell_type": "markdown",
   "id": "45d54890",
   "metadata": {},
   "source": [
    "### Contents\n",
    "##### 1.0 IMPORTING LIBRARIES\n",
    "##### 2.0 IMPORTING THE DATASET¶\n",
    "##### 3.0 USE OF FOR - LOOP TO GROUP THE STATE INTO REGIONS\n",
    "##### 4.0 Creating crosstab\n",
    "##### 5.0 importing the transpose departemnt dataset\n",
    "##### 6.0 Grouping of the product by price \n",
    "##### 7.0 Product price grouping pie chart"
   ]
  },
  {
   "cell_type": "markdown",
   "id": "7059a057",
   "metadata": {},
   "source": [
    "### 1.0. IMPORTING LIBRARIES"
   ]
  },
  {
   "cell_type": "code",
   "execution_count": 1,
   "id": "6684e0ff",
   "metadata": {},
   "outputs": [],
   "source": [
    "import pandas as pd\n",
    "import numpy as np\n",
    "import os \n",
    "import matplotlib.pyplot as plt\n",
    "import seaborn as sns\n",
    "import scipy"
   ]
  },
  {
   "cell_type": "markdown",
   "id": "a61cb39a",
   "metadata": {},
   "source": [
    "### 2.0. IMPORTING THE DATASET"
   ]
  },
  {
   "cell_type": "code",
   "execution_count": 6,
   "id": "59ebe0b7",
   "metadata": {},
   "outputs": [],
   "source": [
    "df = pd.read_pickle('/Users/shaqurcasco/Downloads/CF9_ords_prods_cus.pkl')"
   ]
  },
  {
   "cell_type": "code",
   "execution_count": 7,
   "id": "85b1518c",
   "metadata": {
    "scrolled": true
   },
   "outputs": [
    {
     "data": {
      "text/html": [
       "<div>\n",
       "<style scoped>\n",
       "    .dataframe tbody tr th:only-of-type {\n",
       "        vertical-align: middle;\n",
       "    }\n",
       "\n",
       "    .dataframe tbody tr th {\n",
       "        vertical-align: top;\n",
       "    }\n",
       "\n",
       "    .dataframe thead th {\n",
       "        text-align: right;\n",
       "    }\n",
       "</style>\n",
       "<table border=\"1\" class=\"dataframe\">\n",
       "  <thead>\n",
       "    <tr style=\"text-align: right;\">\n",
       "      <th></th>\n",
       "      <th>order_id</th>\n",
       "      <th>user_id</th>\n",
       "      <th>eval_set</th>\n",
       "      <th>order_number</th>\n",
       "      <th>order_days_of_the_week</th>\n",
       "      <th>order_hour_of_day</th>\n",
       "      <th>days_since_prior_order</th>\n",
       "      <th>product_id</th>\n",
       "      <th>add_to_cart_order</th>\n",
       "      <th>reordered</th>\n",
       "      <th>...</th>\n",
       "      <th>First Name</th>\n",
       "      <th>Last Name</th>\n",
       "      <th>Gender</th>\n",
       "      <th>State</th>\n",
       "      <th>Age</th>\n",
       "      <th>date_joined</th>\n",
       "      <th>No_of_dependants</th>\n",
       "      <th>family_status</th>\n",
       "      <th>income</th>\n",
       "      <th>_merge</th>\n",
       "    </tr>\n",
       "  </thead>\n",
       "  <tbody>\n",
       "    <tr>\n",
       "      <th>0</th>\n",
       "      <td>2539329</td>\n",
       "      <td>1</td>\n",
       "      <td>prior</td>\n",
       "      <td>1</td>\n",
       "      <td>2</td>\n",
       "      <td>8</td>\n",
       "      <td>NaN</td>\n",
       "      <td>196</td>\n",
       "      <td>1</td>\n",
       "      <td>0</td>\n",
       "      <td>...</td>\n",
       "      <td>Linda</td>\n",
       "      <td>Nguyen</td>\n",
       "      <td>Female</td>\n",
       "      <td>Alabama</td>\n",
       "      <td>31</td>\n",
       "      <td>2/17/2019</td>\n",
       "      <td>3</td>\n",
       "      <td>married</td>\n",
       "      <td>40423</td>\n",
       "      <td>both</td>\n",
       "    </tr>\n",
       "    <tr>\n",
       "      <th>1</th>\n",
       "      <td>2398795</td>\n",
       "      <td>1</td>\n",
       "      <td>prior</td>\n",
       "      <td>2</td>\n",
       "      <td>3</td>\n",
       "      <td>7</td>\n",
       "      <td>15.0</td>\n",
       "      <td>196</td>\n",
       "      <td>1</td>\n",
       "      <td>1</td>\n",
       "      <td>...</td>\n",
       "      <td>Linda</td>\n",
       "      <td>Nguyen</td>\n",
       "      <td>Female</td>\n",
       "      <td>Alabama</td>\n",
       "      <td>31</td>\n",
       "      <td>2/17/2019</td>\n",
       "      <td>3</td>\n",
       "      <td>married</td>\n",
       "      <td>40423</td>\n",
       "      <td>both</td>\n",
       "    </tr>\n",
       "  </tbody>\n",
       "</table>\n",
       "<p>2 rows × 34 columns</p>\n",
       "</div>"
      ],
      "text/plain": [
       "   order_id  user_id eval_set  order_number  order_days_of_the_week  \\\n",
       "0   2539329        1    prior             1                       2   \n",
       "1   2398795        1    prior             2                       3   \n",
       "\n",
       "   order_hour_of_day  days_since_prior_order  product_id  add_to_cart_order  \\\n",
       "0                  8                     NaN         196                  1   \n",
       "1                  7                    15.0         196                  1   \n",
       "\n",
       "   reordered  ... First Name  Last Name  Gender    State Age date_joined  \\\n",
       "0          0  ...      Linda     Nguyen  Female  Alabama  31   2/17/2019   \n",
       "1          1  ...      Linda     Nguyen  Female  Alabama  31   2/17/2019   \n",
       "\n",
       "  No_of_dependants family_status  income _merge  \n",
       "0                3       married   40423   both  \n",
       "1                3       married   40423   both  \n",
       "\n",
       "[2 rows x 34 columns]"
      ]
     },
     "execution_count": 7,
     "metadata": {},
     "output_type": "execute_result"
    }
   ],
   "source": [
    "df.head(2)"
   ]
  },
  {
   "cell_type": "code",
   "execution_count": null,
   "id": "1f8427f4",
   "metadata": {},
   "outputs": [],
   "source": [
    "Creating dataframe with missing data 'Median_customers'\n",
    "df_nan=df[df['Median_customers'].isnull()==True]"
   ]
  },
  {
   "cell_type": "code",
   "execution_count": 4,
   "id": "f48f624f",
   "metadata": {},
   "outputs": [
    {
     "data": {
      "text/plain": [
       "order_id                         0\n",
       "user_id                          0\n",
       "eval_set                         0\n",
       "order_number                     0\n",
       "order_days_of_the_week           0\n",
       "order_hour_of_day                0\n",
       "days_since_prior_order     1962703\n",
       "product_id                       0\n",
       "add_to_cart_order                0\n",
       "reordered                        0\n",
       "product_name                     0\n",
       "aisle_id                         0\n",
       "department_id                    0\n",
       "prices                           0\n",
       "price_range_loc           19949247\n",
       "Busiest day                      0\n",
       "Busiest days                     0\n",
       "Hour_of_day                      0\n",
       "max_order                        0\n",
       "loyalty_flag                     0\n",
       "Average_spender                  0\n",
       "spending_flag                    0\n",
       "Median_customers                 5\n",
       "frequency_flag                   0\n",
       "First Name                       0\n",
       "Last Name                        0\n",
       "Gender                           0\n",
       "State                            0\n",
       "Age                              0\n",
       "date_joined                      0\n",
       "No_of_dependants                 0\n",
       "family_status                    0\n",
       "income                           0\n",
       "_merge                           0\n",
       "dtype: int64"
      ]
     },
     "execution_count": 4,
     "metadata": {},
     "output_type": "execute_result"
    }
   ],
   "source": [
    "# checking the dataset for null \n",
    "df.isnull().sum()"
   ]
  },
  {
   "cell_type": "code",
   "execution_count": 5,
   "id": "31300184",
   "metadata": {},
   "outputs": [],
   "source": [
    "#The median customers with null is becuase there order is not more than one and the median can not be calculated, \n",
    "df.fillna({'Median_customers': 1}, inplace=True)"
   ]
  },
  {
   "cell_type": "code",
   "execution_count": 6,
   "id": "ae206fec",
   "metadata": {},
   "outputs": [],
   "source": [
    "#drop the column \n",
    "df.drop(columns = ['price_range_loc', 'First Name', 'Last Name', '_merge'], inplace = True)"
   ]
  },
  {
   "cell_type": "code",
   "execution_count": 7,
   "id": "44a43066",
   "metadata": {},
   "outputs": [
    {
     "data": {
      "text/plain": [
       "order_id                        0\n",
       "user_id                         0\n",
       "eval_set                        0\n",
       "order_number                    0\n",
       "order_days_of_the_week          0\n",
       "order_hour_of_day               0\n",
       "days_since_prior_order    1962703\n",
       "product_id                      0\n",
       "add_to_cart_order               0\n",
       "reordered                       0\n",
       "product_name                    0\n",
       "aisle_id                        0\n",
       "department_id                   0\n",
       "prices                          0\n",
       "Busiest day                     0\n",
       "Busiest days                    0\n",
       "Hour_of_day                     0\n",
       "max_order                       0\n",
       "loyalty_flag                    0\n",
       "Average_spender                 0\n",
       "spending_flag                   0\n",
       "Median_customers                0\n",
       "frequency_flag                  0\n",
       "Gender                          0\n",
       "State                           0\n",
       "Age                             0\n",
       "date_joined                     0\n",
       "No_of_dependants                0\n",
       "family_status                   0\n",
       "income                          0\n",
       "dtype: int64"
      ]
     },
     "execution_count": 7,
     "metadata": {},
     "output_type": "execute_result"
    }
   ],
   "source": [
    "#checking the column after dropping columns\n",
    "df.isnull().sum()"
   ]
  },
  {
   "cell_type": "markdown",
   "id": "32eed9d1",
   "metadata": {},
   "source": [
    "#### for the purpose of data protection , the personally identifiable information (PII) which is the names (first and names)was excluded to prevent potential trace back to the person with the names."
   ]
  },
  {
   "cell_type": "code",
   "execution_count": null,
   "id": "cb1fe40a",
   "metadata": {},
   "outputs": [],
   "source": []
  },
  {
   "cell_type": "markdown",
   "id": "e9ff0011",
   "metadata": {},
   "source": [
    "### 3.0. USE OF FOR - LOOP TO GROUP THE STATE INTO REGIONS"
   ]
  },
  {
   "cell_type": "code",
   "execution_count": 8,
   "id": "dea1878b",
   "metadata": {},
   "outputs": [],
   "source": [
    "Result = []\n",
    "    \n",
    "for value in df['State']:\n",
    "    if value in ['Maine,' 'New' 'Hampshire' 'Vermont' 'Massachusetts' 'Rhode Island', 'Connecticut','New York','Pennsylvania','New Jersey']:\n",
    "        Result.append('Northeast_Region')\n",
    "    elif value in ['Wisconsin','Michigan','Illinois','Indiana','Ohio','North Dakota','South Dakota','Nebraska','Kansas','Minnesota','Iowa','Missouri']:\n",
    "        Result.append('Midwest_Region')\n",
    "    elif value in ['Delaware','Maryland','District of Columbia','Virginia','West Virginia','North Carolina','South Carolina','Georgia','Florida','Kentucky','Tennessee','Mississippi','Alabama','Oklahoma','Texas','Arkansas','Louisiana']:\n",
    "        Result.append('South_Region')\n",
    "    else:\n",
    "        Result.append('West_Region')\n",
    "    "
   ]
  },
  {
   "cell_type": "code",
   "execution_count": 9,
   "id": "ade22c62",
   "metadata": {},
   "outputs": [],
   "source": [
    "#Passing the result into the new created column 'Region'\n",
    "df['Region'] = Result"
   ]
  },
  {
   "cell_type": "code",
   "execution_count": 10,
   "id": "b34cc04b",
   "metadata": {},
   "outputs": [
    {
     "data": {
      "text/html": [
       "<div>\n",
       "<style scoped>\n",
       "    .dataframe tbody tr th:only-of-type {\n",
       "        vertical-align: middle;\n",
       "    }\n",
       "\n",
       "    .dataframe tbody tr th {\n",
       "        vertical-align: top;\n",
       "    }\n",
       "\n",
       "    .dataframe thead th {\n",
       "        text-align: right;\n",
       "    }\n",
       "</style>\n",
       "<table border=\"1\" class=\"dataframe\">\n",
       "  <thead>\n",
       "    <tr style=\"text-align: right;\">\n",
       "      <th></th>\n",
       "      <th>order_id</th>\n",
       "      <th>user_id</th>\n",
       "      <th>eval_set</th>\n",
       "      <th>order_number</th>\n",
       "      <th>order_days_of_the_week</th>\n",
       "      <th>order_hour_of_day</th>\n",
       "      <th>days_since_prior_order</th>\n",
       "      <th>product_id</th>\n",
       "      <th>add_to_cart_order</th>\n",
       "      <th>reordered</th>\n",
       "      <th>...</th>\n",
       "      <th>Median_customers</th>\n",
       "      <th>frequency_flag</th>\n",
       "      <th>Gender</th>\n",
       "      <th>State</th>\n",
       "      <th>Age</th>\n",
       "      <th>date_joined</th>\n",
       "      <th>No_of_dependants</th>\n",
       "      <th>family_status</th>\n",
       "      <th>income</th>\n",
       "      <th>Region</th>\n",
       "    </tr>\n",
       "  </thead>\n",
       "  <tbody>\n",
       "    <tr>\n",
       "      <th>0</th>\n",
       "      <td>2539329</td>\n",
       "      <td>1</td>\n",
       "      <td>prior</td>\n",
       "      <td>1</td>\n",
       "      <td>2</td>\n",
       "      <td>8</td>\n",
       "      <td>NaN</td>\n",
       "      <td>196</td>\n",
       "      <td>1</td>\n",
       "      <td>0</td>\n",
       "      <td>...</td>\n",
       "      <td>20.5</td>\n",
       "      <td>Non-frequent customer</td>\n",
       "      <td>Female</td>\n",
       "      <td>Alabama</td>\n",
       "      <td>31</td>\n",
       "      <td>2/17/2019</td>\n",
       "      <td>3</td>\n",
       "      <td>married</td>\n",
       "      <td>40423</td>\n",
       "      <td>South_Region</td>\n",
       "    </tr>\n",
       "    <tr>\n",
       "      <th>1</th>\n",
       "      <td>2398795</td>\n",
       "      <td>1</td>\n",
       "      <td>prior</td>\n",
       "      <td>2</td>\n",
       "      <td>3</td>\n",
       "      <td>7</td>\n",
       "      <td>15.0</td>\n",
       "      <td>196</td>\n",
       "      <td>1</td>\n",
       "      <td>1</td>\n",
       "      <td>...</td>\n",
       "      <td>20.5</td>\n",
       "      <td>Non-frequent customer</td>\n",
       "      <td>Female</td>\n",
       "      <td>Alabama</td>\n",
       "      <td>31</td>\n",
       "      <td>2/17/2019</td>\n",
       "      <td>3</td>\n",
       "      <td>married</td>\n",
       "      <td>40423</td>\n",
       "      <td>South_Region</td>\n",
       "    </tr>\n",
       "    <tr>\n",
       "      <th>2</th>\n",
       "      <td>473747</td>\n",
       "      <td>1</td>\n",
       "      <td>prior</td>\n",
       "      <td>3</td>\n",
       "      <td>3</td>\n",
       "      <td>12</td>\n",
       "      <td>21.0</td>\n",
       "      <td>196</td>\n",
       "      <td>1</td>\n",
       "      <td>1</td>\n",
       "      <td>...</td>\n",
       "      <td>20.5</td>\n",
       "      <td>Non-frequent customer</td>\n",
       "      <td>Female</td>\n",
       "      <td>Alabama</td>\n",
       "      <td>31</td>\n",
       "      <td>2/17/2019</td>\n",
       "      <td>3</td>\n",
       "      <td>married</td>\n",
       "      <td>40423</td>\n",
       "      <td>South_Region</td>\n",
       "    </tr>\n",
       "    <tr>\n",
       "      <th>3</th>\n",
       "      <td>2254736</td>\n",
       "      <td>1</td>\n",
       "      <td>prior</td>\n",
       "      <td>4</td>\n",
       "      <td>4</td>\n",
       "      <td>7</td>\n",
       "      <td>29.0</td>\n",
       "      <td>196</td>\n",
       "      <td>1</td>\n",
       "      <td>1</td>\n",
       "      <td>...</td>\n",
       "      <td>20.5</td>\n",
       "      <td>Non-frequent customer</td>\n",
       "      <td>Female</td>\n",
       "      <td>Alabama</td>\n",
       "      <td>31</td>\n",
       "      <td>2/17/2019</td>\n",
       "      <td>3</td>\n",
       "      <td>married</td>\n",
       "      <td>40423</td>\n",
       "      <td>South_Region</td>\n",
       "    </tr>\n",
       "  </tbody>\n",
       "</table>\n",
       "<p>4 rows × 31 columns</p>\n",
       "</div>"
      ],
      "text/plain": [
       "   order_id  user_id eval_set  order_number  order_days_of_the_week  \\\n",
       "0   2539329        1    prior             1                       2   \n",
       "1   2398795        1    prior             2                       3   \n",
       "2    473747        1    prior             3                       3   \n",
       "3   2254736        1    prior             4                       4   \n",
       "\n",
       "   order_hour_of_day  days_since_prior_order  product_id  add_to_cart_order  \\\n",
       "0                  8                     NaN         196                  1   \n",
       "1                  7                    15.0         196                  1   \n",
       "2                 12                    21.0         196                  1   \n",
       "3                  7                    29.0         196                  1   \n",
       "\n",
       "   reordered  ... Median_customers         frequency_flag  Gender    State  \\\n",
       "0          0  ...             20.5  Non-frequent customer  Female  Alabama   \n",
       "1          1  ...             20.5  Non-frequent customer  Female  Alabama   \n",
       "2          1  ...             20.5  Non-frequent customer  Female  Alabama   \n",
       "3          1  ...             20.5  Non-frequent customer  Female  Alabama   \n",
       "\n",
       "  Age date_joined No_of_dependants  family_status income        Region  \n",
       "0  31   2/17/2019                3        married  40423  South_Region  \n",
       "1  31   2/17/2019                3        married  40423  South_Region  \n",
       "2  31   2/17/2019                3        married  40423  South_Region  \n",
       "3  31   2/17/2019                3        married  40423  South_Region  \n",
       "\n",
       "[4 rows x 31 columns]"
      ]
     },
     "execution_count": 10,
     "metadata": {},
     "output_type": "execute_result"
    }
   ],
   "source": [
    "# checking the dataframe if the new column 'Region' was properly append\n",
    "df.head(4)"
   ]
  },
  {
   "cell_type": "code",
   "execution_count": 11,
   "id": "c30ff128",
   "metadata": {},
   "outputs": [
    {
     "data": {
      "text/plain": [
       "West_Region         10837832\n",
       "South_Region        10198982\n",
       "Midwest_Region       7176924\n",
       "Northeast_Region     2416003\n",
       "Name: Region, dtype: int64"
      ]
     },
     "execution_count": 11,
     "metadata": {},
     "output_type": "execute_result"
    }
   ],
   "source": [
    "#checking the freuency numbers of each regions \n",
    "df['Region'].value_counts(dropna = False)"
   ]
  },
  {
   "cell_type": "code",
   "execution_count": 14,
   "id": "a3362745",
   "metadata": {},
   "outputs": [
    {
     "data": {
      "text/plain": [
       "Index(['order_id', 'user_id', 'eval_set', 'order_number',\n",
       "       'order_days_of_the_week', 'order_hour_of_day', 'days_since_prior_order',\n",
       "       'product_id', 'add_to_cart_order', 'reordered', 'product_name',\n",
       "       'aisle_id', 'department_id', 'prices', 'Busiest day', 'Busiest days',\n",
       "       'Hour_of_day', 'max_order', 'loyalty_flag', 'Average_spender',\n",
       "       'spending_flag', 'Median_customers', 'frequency_flag', 'Gender',\n",
       "       'State', 'Age', 'date_joined', 'No_of_dependants', 'family_status',\n",
       "       'income', 'Region'],\n",
       "      dtype='object')"
      ]
     },
     "execution_count": 14,
     "metadata": {},
     "output_type": "execute_result"
    }
   ],
   "source": [
    "#checking the columns \n",
    "df.columns"
   ]
  },
  {
   "cell_type": "markdown",
   "id": "93ff07ff",
   "metadata": {},
   "source": [
    "### 4.0 Creating crosstab "
   ]
  },
  {
   "cell_type": "code",
   "execution_count": 15,
   "id": "fdfd1c16",
   "metadata": {},
   "outputs": [
    {
     "data": {
      "text/html": [
       "<div>\n",
       "<style scoped>\n",
       "    .dataframe tbody tr th:only-of-type {\n",
       "        vertical-align: middle;\n",
       "    }\n",
       "\n",
       "    .dataframe tbody tr th {\n",
       "        vertical-align: top;\n",
       "    }\n",
       "\n",
       "    .dataframe thead th {\n",
       "        text-align: right;\n",
       "    }\n",
       "</style>\n",
       "<table border=\"1\" class=\"dataframe\">\n",
       "  <thead>\n",
       "    <tr style=\"text-align: right;\">\n",
       "      <th>spending_flag</th>\n",
       "      <th>High spender</th>\n",
       "      <th>Low spender</th>\n",
       "    </tr>\n",
       "    <tr>\n",
       "      <th>Region</th>\n",
       "      <th></th>\n",
       "      <th></th>\n",
       "    </tr>\n",
       "  </thead>\n",
       "  <tbody>\n",
       "    <tr>\n",
       "      <th>Midwest_Region</th>\n",
       "      <td>149817</td>\n",
       "      <td>7027107</td>\n",
       "    </tr>\n",
       "    <tr>\n",
       "      <th>Northeast_Region</th>\n",
       "      <td>40697</td>\n",
       "      <td>2375306</td>\n",
       "    </tr>\n",
       "    <tr>\n",
       "      <th>South_Region</th>\n",
       "      <td>196523</td>\n",
       "      <td>10002459</td>\n",
       "    </tr>\n",
       "    <tr>\n",
       "      <th>West_Region</th>\n",
       "      <td>208526</td>\n",
       "      <td>10629306</td>\n",
       "    </tr>\n",
       "  </tbody>\n",
       "</table>\n",
       "</div>"
      ],
      "text/plain": [
       "spending_flag     High spender  Low spender\n",
       "Region                                     \n",
       "Midwest_Region          149817      7027107\n",
       "Northeast_Region         40697      2375306\n",
       "South_Region            196523     10002459\n",
       "West_Region             208526     10629306"
      ]
     },
     "execution_count": 15,
     "metadata": {},
     "output_type": "execute_result"
    }
   ],
   "source": [
    "#creating cross tab for region and spending flag\n",
    "crosstab = pd.crosstab(df['Region'], df['spending_flag'], dropna = False)\n",
    "crosstab"
   ]
  },
  {
   "cell_type": "code",
   "execution_count": 25,
   "id": "21d99af1",
   "metadata": {},
   "outputs": [],
   "source": [
    "# Low-activity customers excluded from the dataframe\n",
    "df_value_cus = df[df['max_order'] >= 5]"
   ]
  },
  {
   "cell_type": "code",
   "execution_count": 26,
   "id": "8860a175",
   "metadata": {},
   "outputs": [
    {
     "data": {
      "text/plain": [
       "(29270938, 31)"
      ]
     },
     "execution_count": 26,
     "metadata": {},
     "output_type": "execute_result"
    }
   ],
   "source": [
    "#checking the columns and rows \n",
    "df_value_cus.shape"
   ]
  },
  {
   "cell_type": "markdown",
   "id": "36f1ede1",
   "metadata": {},
   "source": [
    "### 5.0  importing the transpose departemnt dataset"
   ]
  },
  {
   "cell_type": "code",
   "execution_count": 12,
   "id": "d50f5968",
   "metadata": {},
   "outputs": [],
   "source": [
    "#importing  dataset\n",
    "df_dept = pd.read_csv('/Users/shaqurcasco/Downloads/ Instacart Basket June: 26: 2023 CF/3 SCRIPT/CF Achievement 4/department_wrangling.csv')"
   ]
  },
  {
   "cell_type": "code",
   "execution_count": 19,
   "id": "b771d685",
   "metadata": {},
   "outputs": [
    {
     "data": {
      "text/html": [
       "<div>\n",
       "<style scoped>\n",
       "    .dataframe tbody tr th:only-of-type {\n",
       "        vertical-align: middle;\n",
       "    }\n",
       "\n",
       "    .dataframe tbody tr th {\n",
       "        vertical-align: top;\n",
       "    }\n",
       "\n",
       "    .dataframe thead th {\n",
       "        text-align: right;\n",
       "    }\n",
       "</style>\n",
       "<table border=\"1\" class=\"dataframe\">\n",
       "  <thead>\n",
       "    <tr style=\"text-align: right;\">\n",
       "      <th></th>\n",
       "      <th>department_id</th>\n",
       "      <th>department</th>\n",
       "    </tr>\n",
       "  </thead>\n",
       "  <tbody>\n",
       "    <tr>\n",
       "      <th>0</th>\n",
       "      <td>1</td>\n",
       "      <td>frozen</td>\n",
       "    </tr>\n",
       "    <tr>\n",
       "      <th>1</th>\n",
       "      <td>2</td>\n",
       "      <td>other</td>\n",
       "    </tr>\n",
       "    <tr>\n",
       "      <th>2</th>\n",
       "      <td>3</td>\n",
       "      <td>bakery</td>\n",
       "    </tr>\n",
       "  </tbody>\n",
       "</table>\n",
       "</div>"
      ],
      "text/plain": [
       "   department_id department\n",
       "0              1     frozen\n",
       "1              2      other\n",
       "2              3     bakery"
      ]
     },
     "execution_count": 19,
     "metadata": {},
     "output_type": "execute_result"
    }
   ],
   "source": [
    "df_dept.head(3)"
   ]
  },
  {
   "cell_type": "code",
   "execution_count": 20,
   "id": "37f749e5",
   "metadata": {},
   "outputs": [],
   "source": [
    "#renaming the Unnamed to department_id\n",
    "df_dept.rename(columns = {'Unnamed: 0':'department_id'}, inplace = True)"
   ]
  },
  {
   "cell_type": "code",
   "execution_count": 21,
   "id": "7aaf1fd1",
   "metadata": {},
   "outputs": [
    {
     "data": {
      "text/html": [
       "<div>\n",
       "<style scoped>\n",
       "    .dataframe tbody tr th:only-of-type {\n",
       "        vertical-align: middle;\n",
       "    }\n",
       "\n",
       "    .dataframe tbody tr th {\n",
       "        vertical-align: top;\n",
       "    }\n",
       "\n",
       "    .dataframe thead th {\n",
       "        text-align: right;\n",
       "    }\n",
       "</style>\n",
       "<table border=\"1\" class=\"dataframe\">\n",
       "  <thead>\n",
       "    <tr style=\"text-align: right;\">\n",
       "      <th></th>\n",
       "      <th>department_id</th>\n",
       "      <th>department</th>\n",
       "    </tr>\n",
       "  </thead>\n",
       "  <tbody>\n",
       "    <tr>\n",
       "      <th>0</th>\n",
       "      <td>1</td>\n",
       "      <td>frozen</td>\n",
       "    </tr>\n",
       "    <tr>\n",
       "      <th>1</th>\n",
       "      <td>2</td>\n",
       "      <td>other</td>\n",
       "    </tr>\n",
       "    <tr>\n",
       "      <th>2</th>\n",
       "      <td>3</td>\n",
       "      <td>bakery</td>\n",
       "    </tr>\n",
       "  </tbody>\n",
       "</table>\n",
       "</div>"
      ],
      "text/plain": [
       "   department_id department\n",
       "0              1     frozen\n",
       "1              2      other\n",
       "2              3     bakery"
      ]
     },
     "execution_count": 21,
     "metadata": {},
     "output_type": "execute_result"
    }
   ],
   "source": [
    "df_dept.head(3)"
   ]
  },
  {
   "cell_type": "code",
   "execution_count": 22,
   "id": "4fe43ca7",
   "metadata": {},
   "outputs": [],
   "source": [
    "### Merging of the df and department dataframe\n",
    "df_merged = df.merge(df_dept, on =['department_id'], indicator = True )"
   ]
  },
  {
   "cell_type": "code",
   "execution_count": 32,
   "id": "5dc3f27b",
   "metadata": {},
   "outputs": [
    {
     "data": {
      "text/plain": [
       "(30629741, 33)"
      ]
     },
     "execution_count": 32,
     "metadata": {},
     "output_type": "execute_result"
    }
   ],
   "source": [
    "#checking the columns and shape \n",
    "df_merged.shape"
   ]
  },
  {
   "cell_type": "code",
   "execution_count": 33,
   "id": "c6139213",
   "metadata": {},
   "outputs": [
    {
     "data": {
      "text/plain": [
       "count    3.062974e+07\n",
       "mean     4.947348e+01\n",
       "std      1.847859e+01\n",
       "min      1.800000e+01\n",
       "25%      3.300000e+01\n",
       "50%      4.900000e+01\n",
       "75%      6.500000e+01\n",
       "max      8.100000e+01\n",
       "Name: Age, dtype: float64"
      ]
     },
     "execution_count": 33,
     "metadata": {},
     "output_type": "execute_result"
    }
   ],
   "source": [
    "# calculating the statistics of the department dataframe\n",
    "df_merged['Age'].describe()"
   ]
  },
  {
   "cell_type": "code",
   "execution_count": 35,
   "id": "4f971877",
   "metadata": {},
   "outputs": [
    {
     "data": {
      "text/plain": [
       "18    472863\n",
       "19    491977\n",
       "20    478887\n",
       "21    485541\n",
       "22    483586\n",
       "       ...  \n",
       "77    474757\n",
       "78    471533\n",
       "79    498415\n",
       "80    482775\n",
       "81    478367\n",
       "Name: Age, Length: 64, dtype: int64"
      ]
     },
     "execution_count": 35,
     "metadata": {},
     "output_type": "execute_result"
    }
   ],
   "source": [
    "#sorting  the agec column from the lowest to the highest age \n",
    "df_merged['Age'].value_counts().sort_index()"
   ]
  },
  {
   "cell_type": "code",
   "execution_count": 23,
   "id": "8c0774bd",
   "metadata": {},
   "outputs": [],
   "source": [
    "# Grouping of age \n",
    "df_merged.loc[(df_merged['Age'] < 35), 'age_group'] = 'Young Adult'\n",
    "df_merged.loc[(df_merged['Age'] >= 35) & (df_merged['Age'] < 65), 'age_group'] = 'Middle-Aged'\n",
    "df_merged.loc[df_merged['Age'] >= 65, 'age_group'] = 'Senior'"
   ]
  },
  {
   "cell_type": "code",
   "execution_count": 37,
   "id": "847575c0",
   "metadata": {},
   "outputs": [
    {
     "data": {
      "text/plain": [
       "Middle-Aged    14392922\n",
       "Young Adult     8139248\n",
       "Senior          8097571\n",
       "Name: age_group, dtype: int64"
      ]
     },
     "execution_count": 37,
     "metadata": {},
     "output_type": "execute_result"
    }
   ],
   "source": [
    "# checking the frequency of the age-group\n",
    "df_merged['age_group'].value_counts()"
   ]
  },
  {
   "cell_type": "code",
   "execution_count": 38,
   "id": "1312098d",
   "metadata": {},
   "outputs": [
    {
     "data": {
      "text/plain": [
       "(30629741, 34)"
      ]
     },
     "execution_count": 38,
     "metadata": {},
     "output_type": "execute_result"
    }
   ],
   "source": [
    "#checking the rows and columns of the dataframe after adding the new column 'age-group'\n",
    "df_merged.shape"
   ]
  },
  {
   "cell_type": "code",
   "execution_count": 39,
   "id": "4a8adcce",
   "metadata": {},
   "outputs": [
    {
     "data": {
      "text/plain": [
       "count    3.062974e+07\n",
       "mean     9.945980e+04\n",
       "std      4.306626e+04\n",
       "min      2.590300e+04\n",
       "25%      6.706600e+04\n",
       "50%      9.661200e+04\n",
       "75%      1.279340e+05\n",
       "max      5.939010e+05\n",
       "Name: income, dtype: float64"
      ]
     },
     "execution_count": 39,
     "metadata": {},
     "output_type": "execute_result"
    }
   ],
   "source": [
    "# checking the descriptive statistics of the income\n",
    "df_merged['income'].describe()"
   ]
  },
  {
   "cell_type": "markdown",
   "id": "5f2ac51d",
   "metadata": {},
   "source": [
    "###### The income ranges from 25k US-Dollars to 594k US Dollars, and the average income of the customers is 99k US Dollars\n",
    "#####  The Grouping of incoming was done as following :\n",
    "    \n",
    "######    FROM MIN INCOME 25K TO FIRST QUARTILE <68K USD =  < 68K USD\n",
    "######  ABOVE FIRST QUARTILE >= 68K TO 3RD QUARTILE < 128 USD = >= 68K - < 128 USD\n",
    "######  ABOVE THIRD QUARTILE >= 128 "
   ]
  },
  {
   "cell_type": "code",
   "execution_count": 24,
   "id": "6cbd2a79",
   "metadata": {},
   "outputs": [],
   "source": [
    "#grouping of income\n",
    "df_merged.loc[df_merged['income'] < 68000, 'income_Range']  = '25k-68k' \n",
    "df_merged.loc[(df_merged['income'] >= 68000) & (df_merged['income'] < 128000), 'income_Range'] = '68k-128k'\n",
    "df_merged.loc[df_merged['income'] >= 128000, 'income_Range']  = '128k'\n"
   ]
  },
  {
   "cell_type": "code",
   "execution_count": 42,
   "id": "eac03dc2",
   "metadata": {},
   "outputs": [
    {
     "data": {
      "text/plain": [
       "68k-128k    15063447\n",
       "25k-68k      7919442\n",
       "128k         7646852\n",
       "Name: income_Range, dtype: int64"
      ]
     },
     "execution_count": 42,
     "metadata": {},
     "output_type": "execute_result"
    }
   ],
   "source": [
    "# checking the frequency of the income_range\n",
    "df_merged['income_Range'].value_counts()"
   ]
  },
  {
   "cell_type": "code",
   "execution_count": 43,
   "id": "3e83db38",
   "metadata": {},
   "outputs": [
    {
     "data": {
      "text/plain": [
       "(30629741, 35)"
      ]
     },
     "execution_count": 43,
     "metadata": {},
     "output_type": "execute_result"
    }
   ],
   "source": [
    "#checking the rows and columns of the dataframe after adding the new column 'age-income'\n",
    "df_merged.shape"
   ]
  },
  {
   "cell_type": "code",
   "execution_count": 44,
   "id": "691acbc5",
   "metadata": {},
   "outputs": [
    {
     "data": {
      "text/plain": [
       "count    3.062974e+07\n",
       "mean     1.501712e+00\n",
       "std      1.118467e+00\n",
       "min      0.000000e+00\n",
       "25%      1.000000e+00\n",
       "50%      2.000000e+00\n",
       "75%      3.000000e+00\n",
       "max      3.000000e+00\n",
       "Name: No_of_dependants, dtype: float64"
      ]
     },
     "execution_count": 44,
     "metadata": {},
     "output_type": "execute_result"
    }
   ],
   "source": [
    "# statistis description of the number of dependant\n",
    "df_merged['No_of_dependants'].describe()"
   ]
  },
  {
   "cell_type": "code",
   "execution_count": 45,
   "id": "732519ae",
   "metadata": {},
   "outputs": [
    {
     "data": {
      "text/plain": [
       "3    7680036\n",
       "2    7656940\n",
       "0    7649698\n",
       "1    7643067\n",
       "Name: No_of_dependants, dtype: int64"
      ]
     },
     "execution_count": 45,
     "metadata": {},
     "output_type": "execute_result"
    }
   ],
   "source": [
    "# checking the frequency of the no of dependants\n",
    "df_merged['No_of_dependants'].value_counts()"
   ]
  },
  {
   "cell_type": "code",
   "execution_count": 25,
   "id": "e345eb21",
   "metadata": {},
   "outputs": [],
   "source": [
    "# crosstab between family status and no of dependant \n",
    "df_family_dependant = pd.crosstab(df_merged['family_status'], df_merged['No_of_dependants'], dropna = True)"
   ]
  },
  {
   "cell_type": "code",
   "execution_count": 26,
   "id": "6d5160d6",
   "metadata": {},
   "outputs": [
    {
     "data": {
      "text/html": [
       "<div>\n",
       "<style scoped>\n",
       "    .dataframe tbody tr th:only-of-type {\n",
       "        vertical-align: middle;\n",
       "    }\n",
       "\n",
       "    .dataframe tbody tr th {\n",
       "        vertical-align: top;\n",
       "    }\n",
       "\n",
       "    .dataframe thead th {\n",
       "        text-align: right;\n",
       "    }\n",
       "</style>\n",
       "<table border=\"1\" class=\"dataframe\">\n",
       "  <thead>\n",
       "    <tr style=\"text-align: right;\">\n",
       "      <th>No_of_dependants</th>\n",
       "      <th>0</th>\n",
       "      <th>1</th>\n",
       "      <th>2</th>\n",
       "      <th>3</th>\n",
       "    </tr>\n",
       "    <tr>\n",
       "      <th>family_status</th>\n",
       "      <th></th>\n",
       "      <th></th>\n",
       "      <th></th>\n",
       "      <th></th>\n",
       "    </tr>\n",
       "  </thead>\n",
       "  <tbody>\n",
       "    <tr>\n",
       "      <th>divorced/widowed</th>\n",
       "      <td>2629966</td>\n",
       "      <td>0</td>\n",
       "      <td>0</td>\n",
       "      <td>0</td>\n",
       "    </tr>\n",
       "    <tr>\n",
       "      <th>living with parents and siblings</th>\n",
       "      <td>0</td>\n",
       "      <td>508378</td>\n",
       "      <td>479566</td>\n",
       "      <td>482888</td>\n",
       "    </tr>\n",
       "    <tr>\n",
       "      <th>married</th>\n",
       "      <td>0</td>\n",
       "      <td>7134689</td>\n",
       "      <td>7177374</td>\n",
       "      <td>7197148</td>\n",
       "    </tr>\n",
       "    <tr>\n",
       "      <th>single</th>\n",
       "      <td>5019732</td>\n",
       "      <td>0</td>\n",
       "      <td>0</td>\n",
       "      <td>0</td>\n",
       "    </tr>\n",
       "  </tbody>\n",
       "</table>\n",
       "</div>"
      ],
      "text/plain": [
       "No_of_dependants                        0        1        2        3\n",
       "family_status                                                       \n",
       "divorced/widowed                  2629966        0        0        0\n",
       "living with parents and siblings        0   508378   479566   482888\n",
       "married                                 0  7134689  7177374  7197148\n",
       "single                            5019732        0        0        0"
      ]
     },
     "execution_count": 26,
     "metadata": {},
     "output_type": "execute_result"
    }
   ],
   "source": [
    "df_family_dependant"
   ]
  },
  {
   "cell_type": "markdown",
   "id": "8270b014",
   "metadata": {},
   "source": [
    "##### The divorced/widowed AND single did not have any dependants but the married have more dependants than the living with parents and siblings.\n",
    "\n",
    "##### 0 represent no dependant and above 0 represent (1,2,3) Dependant"
   ]
  },
  {
   "cell_type": "code",
   "execution_count": 27,
   "id": "60592993",
   "metadata": {},
   "outputs": [],
   "source": [
    "# creating dependant flag \n",
    "df_merged.loc[df_merged['No_of_dependants'] == 0, 'Dependants'] = 'No_dependant'\n",
    "df_merged.loc[df_merged['No_of_dependants'] > 0, 'Dependants'] = 'Dependant'"
   ]
  },
  {
   "cell_type": "code",
   "execution_count": 32,
   "id": "5c4e7c24",
   "metadata": {},
   "outputs": [],
   "source": [
    "df_merged.to_pickle('/Users/shaqurcasco/Downloads/ Instacart Basket June: 26: 2023 CF/3 SCRIPT/CF Achievement 4/CF_10_1_df_merged.pkl')"
   ]
  },
  {
   "cell_type": "code",
   "execution_count": 49,
   "id": "3b3d899f",
   "metadata": {},
   "outputs": [
    {
     "data": {
      "text/plain": [
       "Dependant       22980043\n",
       "No_dependant     7649698\n",
       "Name: Dependants, dtype: int64"
      ]
     },
     "execution_count": 49,
     "metadata": {},
     "output_type": "execute_result"
    }
   ],
   "source": [
    "# Frequency of the dependants\n",
    "df_merged['Dependants'].value_counts()"
   ]
  },
  {
   "cell_type": "code",
   "execution_count": null,
   "id": "202f21b1",
   "metadata": {},
   "outputs": [],
   "source": [
    "### 6.0 Product price grouping"
   ]
  },
  {
   "cell_type": "code",
   "execution_count": 22,
   "id": "6968e445",
   "metadata": {},
   "outputs": [],
   "source": [
    "# grouping of the product by price , when price is > 15 then high range price \n",
    "df.loc[df['prices'] > 15, 'price_range'] = 'High-range product'"
   ]
  },
  {
   "cell_type": "code",
   "execution_count": 23,
   "id": "e371ea28",
   "metadata": {},
   "outputs": [],
   "source": [
    "# grouping of the product by price , when price is <=15 and > 5 then mid range price \n",
    "df.loc[(df['prices'] <= 15) & (df['prices'] > 5), 'price_range'] = 'Mid-range product' "
   ]
  },
  {
   "cell_type": "code",
   "execution_count": 24,
   "id": "49bfc0d3",
   "metadata": {},
   "outputs": [],
   "source": [
    "# grouping of the product by price , when price is <= 5 then low range price \n",
    "df.loc[df['prices'] <= 5, 'price_range'] = 'Low-range product'"
   ]
  },
  {
   "cell_type": "code",
   "execution_count": 25,
   "id": "1fe83864",
   "metadata": {},
   "outputs": [
    {
     "data": {
      "text/plain": [
       "price_range\n",
       "Mid-range product     20664075\n",
       "Low-range product      9570200\n",
       "High-range product      395466\n",
       "Name: count, dtype: int64"
      ]
     },
     "execution_count": 25,
     "metadata": {},
     "output_type": "execute_result"
    }
   ],
   "source": [
    "df['price_range'].value_counts()"
   ]
  },
  {
   "cell_type": "markdown",
   "id": "b3fa4c18",
   "metadata": {},
   "source": [
    "### 7.0 Product price grouping pie chart"
   ]
  },
  {
   "cell_type": "code",
   "execution_count": 27,
   "id": "f5587037",
   "metadata": {},
   "outputs": [
    {
     "data": {
      "image/png": "[encoded data removed]",
      "text/plain": [
       "<Figure size 800x800 with 1 Axes>"
      ]
     },
     "metadata": {},
     "output_type": "display_data"
    }
   ],
   "source": [
    "#Age #pie chart Visualization\n",
    "pie_price_range = df['price_range'].value_counts().plot.pie(figsize = (8,8), colors = sns.color_palette('Blues', 3), autopct = '%1.1f%%')\n",
    "plt.ylabel('')\n",
    "plt.title('Percentage of price_range_product',fontsize=10)\n",
    "plt.show()"
   ]
  },
  {
   "cell_type": "code",
   "execution_count": 28,
   "id": "8ac7c0fb",
   "metadata": {},
   "outputs": [],
   "source": [
    "#saving the pie chart \n",
    "pie_price_range.figure.savefig('/Users/shaqurcasco/Downloads/price_range.png')"
   ]
  },
  {
   "cell_type": "code",
   "execution_count": null,
   "id": "a33f80c8",
   "metadata": {},
   "outputs": [],
   "source": []
  }
 ],
 "metadata": {
  "kernelspec": {
   "display_name": "Python 3 (ipykernel)",
   "language": "python",
   "name": "python3"
  },
  "language_info": {
   "codemirror_mode": {
    "name": "ipython",
    "version": 3
   },
   "file_extension": ".py",
   "mimetype": "text/x-python",
   "name": "python",
   "nbconvert_exporter": "python",
   "pygments_lexer": "ipython3",
   "version": "3.10.10"
  }
 },
 "nbformat": 4,
 "nbformat_minor": 5
}
