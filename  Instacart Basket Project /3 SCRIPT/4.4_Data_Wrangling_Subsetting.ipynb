{
 "cells": [
  {
   "cell_type": "markdown",
   "id": "df8c149a",
   "metadata": {},
   "source": [
    "### Contents\n",
    "##### 1.0 Importing of libraries\n",
    "##### 2.0 Importing of orders dataset\n",
    "##### 3.0 Checking the information of the dataframe\n",
    "##### 4.0 Changing of data type\n",
    "##### 5.0 Changing of unintuitive column names\n",
    "##### 6.0 Calculating the Busiest hour \n",
    "##### 7.0 Importing of the department dataset\n",
    "##### 8.0 Tranposing of the department dataframe and creating new header \n",
    "##### 9.0  Creating dictionary of the new wrangled department dataframe\n",
    "##### 10 Importing Product dataset\n",
    "##### 11 Creating subset using isin\n"
   ]
  },
  {
   "cell_type": "markdown",
   "id": "f3ca04b8",
   "metadata": {},
   "source": [
    "### 1.0 Importing of libraries"
   ]
  },
  {
   "cell_type": "code",
   "execution_count": 3,
   "id": "caa86e8d",
   "metadata": {},
   "outputs": [],
   "source": [
    "#importing of libraries\n",
    "import pandas as pd\n",
    "import numpy as np\n",
    "import os"
   ]
  },
  {
   "cell_type": "markdown",
   "id": "b1849764",
   "metadata": {},
   "source": [
    "### 2.0 Importing of orders dataset"
   ]
  },
  {
   "cell_type": "code",
   "execution_count": 118,
   "id": "22f8993a",
   "metadata": {},
   "outputs": [],
   "source": [
    "df_ords = pd.read_csv('Downloads/CF_orders.csv', index_col = False)"
   ]
  },
  {
   "cell_type": "code",
   "execution_count": 119,
   "id": "7873039c",
   "metadata": {
    "scrolled": false
   },
   "outputs": [
    {
     "data": {
      "text/html": [
       "<div>\n",
       "<style scoped>\n",
       "    .dataframe tbody tr th:only-of-type {\n",
       "        vertical-align: middle;\n",
       "    }\n",
       "\n",
       "    .dataframe tbody tr th {\n",
       "        vertical-align: top;\n",
       "    }\n",
       "\n",
       "    .dataframe thead th {\n",
       "        text-align: right;\n",
       "    }\n",
       "</style>\n",
       "<table border=\"1\" class=\"dataframe\">\n",
       "  <thead>\n",
       "    <tr style=\"text-align: right;\">\n",
       "      <th></th>\n",
       "      <th>order_id</th>\n",
       "      <th>user_id</th>\n",
       "      <th>eval_set</th>\n",
       "      <th>order_number</th>\n",
       "      <th>order_dow</th>\n",
       "      <th>order_hour_of_day</th>\n",
       "      <th>days_since_prior_order</th>\n",
       "    </tr>\n",
       "  </thead>\n",
       "  <tbody>\n",
       "    <tr>\n",
       "      <th>0</th>\n",
       "      <td>2539329</td>\n",
       "      <td>1</td>\n",
       "      <td>prior</td>\n",
       "      <td>1</td>\n",
       "      <td>2</td>\n",
       "      <td>8</td>\n",
       "      <td>NaN</td>\n",
       "    </tr>\n",
       "    <tr>\n",
       "      <th>1</th>\n",
       "      <td>2398795</td>\n",
       "      <td>1</td>\n",
       "      <td>prior</td>\n",
       "      <td>2</td>\n",
       "      <td>3</td>\n",
       "      <td>7</td>\n",
       "      <td>15.0</td>\n",
       "    </tr>\n",
       "    <tr>\n",
       "      <th>2</th>\n",
       "      <td>473747</td>\n",
       "      <td>1</td>\n",
       "      <td>prior</td>\n",
       "      <td>3</td>\n",
       "      <td>3</td>\n",
       "      <td>12</td>\n",
       "      <td>21.0</td>\n",
       "    </tr>\n",
       "    <tr>\n",
       "      <th>3</th>\n",
       "      <td>2254736</td>\n",
       "      <td>1</td>\n",
       "      <td>prior</td>\n",
       "      <td>4</td>\n",
       "      <td>4</td>\n",
       "      <td>7</td>\n",
       "      <td>29.0</td>\n",
       "    </tr>\n",
       "    <tr>\n",
       "      <th>4</th>\n",
       "      <td>431534</td>\n",
       "      <td>1</td>\n",
       "      <td>prior</td>\n",
       "      <td>5</td>\n",
       "      <td>4</td>\n",
       "      <td>15</td>\n",
       "      <td>28.0</td>\n",
       "    </tr>\n",
       "  </tbody>\n",
       "</table>\n",
       "</div>"
      ],
      "text/plain": [
       "   order_id  user_id eval_set  order_number  order_dow  order_hour_of_day  \\\n",
       "0   2539329        1    prior             1          2                  8   \n",
       "1   2398795        1    prior             2          3                  7   \n",
       "2    473747        1    prior             3          3                 12   \n",
       "3   2254736        1    prior             4          4                  7   \n",
       "4    431534        1    prior             5          4                 15   \n",
       "\n",
       "   days_since_prior_order  \n",
       "0                     NaN  \n",
       "1                    15.0  \n",
       "2                    21.0  \n",
       "3                    29.0  \n",
       "4                    28.0  "
      ]
     },
     "execution_count": 119,
     "metadata": {},
     "output_type": "execute_result"
    }
   ],
   "source": [
    "# dataframe heads\n",
    "df_ords.head()"
   ]
  },
  {
   "cell_type": "markdown",
   "id": "8cc74f1c",
   "metadata": {},
   "source": [
    "### 3.0 Checking the information of the dataframe"
   ]
  },
  {
   "cell_type": "code",
   "execution_count": 120,
   "id": "b8a95d35",
   "metadata": {
    "scrolled": true
   },
   "outputs": [
    {
     "name": "stdout",
     "output_type": "stream",
     "text": [
      "<class 'pandas.core.frame.DataFrame'>\n",
      "RangeIndex: 3421083 entries, 0 to 3421082\n",
      "Data columns (total 7 columns):\n",
      " #   Column                  Dtype  \n",
      "---  ------                  -----  \n",
      " 0   order_id                int64  \n",
      " 1   user_id                 int64  \n",
      " 2   eval_set                object \n",
      " 3   order_number            int64  \n",
      " 4   order_dow               int64  \n",
      " 5   order_hour_of_day       int64  \n",
      " 6   days_since_prior_order  float64\n",
      "dtypes: float64(1), int64(5), object(1)\n",
      "memory usage: 182.7+ MB\n"
     ]
    }
   ],
   "source": [
    "# Order information\n",
    "df_ords.info()"
   ]
  },
  {
   "cell_type": "markdown",
   "id": "31d56013",
   "metadata": {},
   "source": [
    "##### QUESTION 2 :Find another identifier variable in the df_ords dataframe that doesn’t need to be included in your analysis as a numeric variable and change it to a suitable format.\n",
    "\n",
    "\n"
   ]
  },
  {
   "cell_type": "markdown",
   "id": "f1b5d44b",
   "metadata": {},
   "source": [
    "### 4.0 Changing of data type"
   ]
  },
  {
   "cell_type": "code",
   "execution_count": 121,
   "id": "08c4e231",
   "metadata": {},
   "outputs": [
    {
     "data": {
      "text/plain": [
       "0    2539329\n",
       "1    2398795\n",
       "2     473747\n",
       "3    2254736\n",
       "4     431534\n",
       "Name: order_id, dtype: object"
      ]
     },
     "execution_count": 121,
     "metadata": {},
     "output_type": "execute_result"
    }
   ],
   "source": [
    "# changing the order_id columns data type to string \n",
    "df_ords1 = df_ords['order_id'].astype('str')\n",
    "df_ords1.head()"
   ]
  },
  {
   "cell_type": "markdown",
   "id": "a664a31a",
   "metadata": {},
   "source": [
    " ###### The order_id data type is an integer and changed to string "
   ]
  },
  {
   "cell_type": "markdown",
   "id": "00fa9245",
   "metadata": {},
   "source": [
    "### 5.0 Changing of unintuitive column names"
   ]
  },
  {
   "cell_type": "markdown",
   "id": "b1f785b0",
   "metadata": {},
   "source": [
    "######  QUESTION 3 : Look for a variable in your df_ords dataframe with an unintuitive name and change it name without overwriting the data frame"
   ]
  },
  {
   "cell_type": "code",
   "execution_count": 122,
   "id": "85833ad5",
   "metadata": {},
   "outputs": [
    {
     "data": {
      "text/html": [
       "<div>\n",
       "<style scoped>\n",
       "    .dataframe tbody tr th:only-of-type {\n",
       "        vertical-align: middle;\n",
       "    }\n",
       "\n",
       "    .dataframe tbody tr th {\n",
       "        vertical-align: top;\n",
       "    }\n",
       "\n",
       "    .dataframe thead th {\n",
       "        text-align: right;\n",
       "    }\n",
       "</style>\n",
       "<table border=\"1\" class=\"dataframe\">\n",
       "  <thead>\n",
       "    <tr style=\"text-align: right;\">\n",
       "      <th></th>\n",
       "      <th>order_id</th>\n",
       "      <th>user_id</th>\n",
       "      <th>eval_set</th>\n",
       "      <th>order_number</th>\n",
       "      <th>order_of_the _week</th>\n",
       "      <th>order_hour_of_day</th>\n",
       "      <th>days_since_prior_order</th>\n",
       "    </tr>\n",
       "  </thead>\n",
       "  <tbody>\n",
       "    <tr>\n",
       "      <th>0</th>\n",
       "      <td>2539329</td>\n",
       "      <td>1</td>\n",
       "      <td>prior</td>\n",
       "      <td>1</td>\n",
       "      <td>2</td>\n",
       "      <td>8</td>\n",
       "      <td>NaN</td>\n",
       "    </tr>\n",
       "    <tr>\n",
       "      <th>1</th>\n",
       "      <td>2398795</td>\n",
       "      <td>1</td>\n",
       "      <td>prior</td>\n",
       "      <td>2</td>\n",
       "      <td>3</td>\n",
       "      <td>7</td>\n",
       "      <td>15.0</td>\n",
       "    </tr>\n",
       "    <tr>\n",
       "      <th>2</th>\n",
       "      <td>473747</td>\n",
       "      <td>1</td>\n",
       "      <td>prior</td>\n",
       "      <td>3</td>\n",
       "      <td>3</td>\n",
       "      <td>12</td>\n",
       "      <td>21.0</td>\n",
       "    </tr>\n",
       "    <tr>\n",
       "      <th>3</th>\n",
       "      <td>2254736</td>\n",
       "      <td>1</td>\n",
       "      <td>prior</td>\n",
       "      <td>4</td>\n",
       "      <td>4</td>\n",
       "      <td>7</td>\n",
       "      <td>29.0</td>\n",
       "    </tr>\n",
       "    <tr>\n",
       "      <th>4</th>\n",
       "      <td>431534</td>\n",
       "      <td>1</td>\n",
       "      <td>prior</td>\n",
       "      <td>5</td>\n",
       "      <td>4</td>\n",
       "      <td>15</td>\n",
       "      <td>28.0</td>\n",
       "    </tr>\n",
       "  </tbody>\n",
       "</table>\n",
       "</div>"
      ],
      "text/plain": [
       "   order_id  user_id eval_set  order_number  order_of_the _week  \\\n",
       "0   2539329        1    prior             1                   2   \n",
       "1   2398795        1    prior             2                   3   \n",
       "2    473747        1    prior             3                   3   \n",
       "3   2254736        1    prior             4                   4   \n",
       "4    431534        1    prior             5                   4   \n",
       "\n",
       "   order_hour_of_day  days_since_prior_order  \n",
       "0                  8                     NaN  \n",
       "1                  7                    15.0  \n",
       "2                 12                    21.0  \n",
       "3                  7                    29.0  \n",
       "4                 15                    28.0  "
      ]
     },
     "execution_count": 122,
     "metadata": {},
     "output_type": "execute_result"
    }
   ],
   "source": [
    "df_ords_col_change = df_ords.rename(columns = {'order_dow': 'order_of_the _week'})\n",
    "df_ords_col_change.head()"
   ]
  },
  {
   "cell_type": "markdown",
   "id": "eb7f78d7",
   "metadata": {},
   "source": [
    "### 6.0 Calculating the Busiest hour "
   ]
  },
  {
   "cell_type": "markdown",
   "id": "6a7d0819",
   "metadata": {},
   "source": [
    "###### Question 4:Your client wants to know what the busiest hour is for placing orders. Find the frequency of the corresponding variable and share your findings."
   ]
  },
  {
   "cell_type": "code",
   "execution_count": 123,
   "id": "6d9b3577",
   "metadata": {},
   "outputs": [
    {
     "data": {
      "text/plain": [
       "10    288418\n",
       "11    284728\n",
       "15    283639\n",
       "14    283042\n",
       "13    277999\n",
       "Name: order_hour_of_day, dtype: int64"
      ]
     },
     "execution_count": 123,
     "metadata": {},
     "output_type": "execute_result"
    }
   ],
   "source": [
    "# using value_count to find the busiest hour\n",
    "df_ords['order_hour_of_day'].value_counts().head()"
   ]
  },
  {
   "cell_type": "markdown",
   "id": "0b331bcb",
   "metadata": {},
   "source": [
    " The busiest hour is 10:am with the highest count of 288418"
   ]
  },
  {
   "cell_type": "markdown",
   "id": "69306939",
   "metadata": {},
   "source": [
    "### 7.0 Importing of the department dataset"
   ]
  },
  {
   "cell_type": "code",
   "execution_count": 6,
   "id": "73bb674c",
   "metadata": {},
   "outputs": [
    {
     "data": {
      "text/html": [
       "<div>\n",
       "<style scoped>\n",
       "    .dataframe tbody tr th:only-of-type {\n",
       "        vertical-align: middle;\n",
       "    }\n",
       "\n",
       "    .dataframe tbody tr th {\n",
       "        vertical-align: top;\n",
       "    }\n",
       "\n",
       "    .dataframe thead th {\n",
       "        text-align: right;\n",
       "    }\n",
       "</style>\n",
       "<table border=\"1\" class=\"dataframe\">\n",
       "  <thead>\n",
       "    <tr style=\"text-align: right;\">\n",
       "      <th></th>\n",
       "      <th>department_id</th>\n",
       "      <th>1</th>\n",
       "      <th>2</th>\n",
       "      <th>3</th>\n",
       "      <th>4</th>\n",
       "      <th>5</th>\n",
       "      <th>6</th>\n",
       "      <th>7</th>\n",
       "      <th>8</th>\n",
       "      <th>9</th>\n",
       "      <th>...</th>\n",
       "      <th>12</th>\n",
       "      <th>13</th>\n",
       "      <th>14</th>\n",
       "      <th>15</th>\n",
       "      <th>16</th>\n",
       "      <th>17</th>\n",
       "      <th>18</th>\n",
       "      <th>19</th>\n",
       "      <th>20</th>\n",
       "      <th>21</th>\n",
       "    </tr>\n",
       "  </thead>\n",
       "  <tbody>\n",
       "    <tr>\n",
       "      <th>0</th>\n",
       "      <td>department</td>\n",
       "      <td>frozen</td>\n",
       "      <td>other</td>\n",
       "      <td>bakery</td>\n",
       "      <td>produce</td>\n",
       "      <td>alcohol</td>\n",
       "      <td>international</td>\n",
       "      <td>beverages</td>\n",
       "      <td>pets</td>\n",
       "      <td>dry goods pasta</td>\n",
       "      <td>...</td>\n",
       "      <td>meat seafood</td>\n",
       "      <td>pantry</td>\n",
       "      <td>breakfast</td>\n",
       "      <td>canned goods</td>\n",
       "      <td>dairy eggs</td>\n",
       "      <td>household</td>\n",
       "      <td>babies</td>\n",
       "      <td>snacks</td>\n",
       "      <td>deli</td>\n",
       "      <td>missing</td>\n",
       "    </tr>\n",
       "  </tbody>\n",
       "</table>\n",
       "<p>1 rows × 22 columns</p>\n",
       "</div>"
      ],
      "text/plain": [
       "  department_id       1      2       3        4        5              6  \\\n",
       "0    department  frozen  other  bakery  produce  alcohol  international   \n",
       "\n",
       "           7     8                9  ...            12      13         14  \\\n",
       "0  beverages  pets  dry goods pasta  ...  meat seafood  pantry  breakfast   \n",
       "\n",
       "             15          16         17      18      19    20       21  \n",
       "0  canned goods  dairy eggs  household  babies  snacks  deli  missing  \n",
       "\n",
       "[1 rows x 22 columns]"
      ]
     },
     "execution_count": 6,
     "metadata": {},
     "output_type": "execute_result"
    }
   ],
   "source": [
    "df_dep = pd.read_csv('/Users/shaqurcasco/Downloads/ Instacart Basket June: 26: 2023 CF/3 SCRIPT/CF Achievement 4/CF_departments.csv', index_col = False)\n",
    "df_dep"
   ]
  },
  {
   "cell_type": "markdown",
   "id": "bf5befd7",
   "metadata": {},
   "source": [
    "### 8.0 Tranposing of the department dataframe and creating new header "
   ]
  },
  {
   "cell_type": "code",
   "execution_count": 7,
   "id": "dbf70249",
   "metadata": {
    "scrolled": true
   },
   "outputs": [
    {
     "data": {
      "text/html": [
       "<div>\n",
       "<style scoped>\n",
       "    .dataframe tbody tr th:only-of-type {\n",
       "        vertical-align: middle;\n",
       "    }\n",
       "\n",
       "    .dataframe tbody tr th {\n",
       "        vertical-align: top;\n",
       "    }\n",
       "\n",
       "    .dataframe thead th {\n",
       "        text-align: right;\n",
       "    }\n",
       "</style>\n",
       "<table border=\"1\" class=\"dataframe\">\n",
       "  <thead>\n",
       "    <tr style=\"text-align: right;\">\n",
       "      <th></th>\n",
       "      <th>0</th>\n",
       "    </tr>\n",
       "  </thead>\n",
       "  <tbody>\n",
       "    <tr>\n",
       "      <th>department_id</th>\n",
       "      <td>department</td>\n",
       "    </tr>\n",
       "    <tr>\n",
       "      <th>1</th>\n",
       "      <td>frozen</td>\n",
       "    </tr>\n",
       "    <tr>\n",
       "      <th>2</th>\n",
       "      <td>other</td>\n",
       "    </tr>\n",
       "    <tr>\n",
       "      <th>3</th>\n",
       "      <td>bakery</td>\n",
       "    </tr>\n",
       "    <tr>\n",
       "      <th>4</th>\n",
       "      <td>produce</td>\n",
       "    </tr>\n",
       "  </tbody>\n",
       "</table>\n",
       "</div>"
      ],
      "text/plain": [
       "                        0\n",
       "department_id  department\n",
       "1                  frozen\n",
       "2                   other\n",
       "3                  bakery\n",
       "4                 produce"
      ]
     },
     "execution_count": 7,
     "metadata": {},
     "output_type": "execute_result"
    }
   ],
   "source": [
    "# transposing the department dataframe\n",
    "df_dep.T.head()"
   ]
  },
  {
   "cell_type": "code",
   "execution_count": 8,
   "id": "eedb6d14",
   "metadata": {},
   "outputs": [
    {
     "data": {
      "text/html": [
       "<div>\n",
       "<style scoped>\n",
       "    .dataframe tbody tr th:only-of-type {\n",
       "        vertical-align: middle;\n",
       "    }\n",
       "\n",
       "    .dataframe tbody tr th {\n",
       "        vertical-align: top;\n",
       "    }\n",
       "\n",
       "    .dataframe thead th {\n",
       "        text-align: right;\n",
       "    }\n",
       "</style>\n",
       "<table border=\"1\" class=\"dataframe\">\n",
       "  <thead>\n",
       "    <tr style=\"text-align: right;\">\n",
       "      <th></th>\n",
       "      <th>index</th>\n",
       "      <th>0</th>\n",
       "    </tr>\n",
       "  </thead>\n",
       "  <tbody>\n",
       "    <tr>\n",
       "      <th>0</th>\n",
       "      <td>department_id</td>\n",
       "      <td>department</td>\n",
       "    </tr>\n",
       "    <tr>\n",
       "      <th>1</th>\n",
       "      <td>1</td>\n",
       "      <td>frozen</td>\n",
       "    </tr>\n",
       "    <tr>\n",
       "      <th>2</th>\n",
       "      <td>2</td>\n",
       "      <td>other</td>\n",
       "    </tr>\n",
       "    <tr>\n",
       "      <th>3</th>\n",
       "      <td>3</td>\n",
       "      <td>bakery</td>\n",
       "    </tr>\n",
       "    <tr>\n",
       "      <th>4</th>\n",
       "      <td>4</td>\n",
       "      <td>produce</td>\n",
       "    </tr>\n",
       "  </tbody>\n",
       "</table>\n",
       "</div>"
      ],
      "text/plain": [
       "           index           0\n",
       "0  department_id  department\n",
       "1              1      frozen\n",
       "2              2       other\n",
       "3              3      bakery\n",
       "4              4     produce"
      ]
     },
     "execution_count": 8,
     "metadata": {},
     "output_type": "execute_result"
    }
   ],
   "source": [
    "# Resetting the index of the transpose dataframe\n",
    "df_dep.T.reset_index().head()"
   ]
  },
  {
   "cell_type": "code",
   "execution_count": 9,
   "id": "d112a4c8",
   "metadata": {
    "scrolled": true
   },
   "outputs": [
    {
     "data": {
      "text/plain": [
       "0    department\n",
       "Name: department_id, dtype: object"
      ]
     },
     "execution_count": 9,
     "metadata": {},
     "output_type": "execute_result"
    }
   ],
   "source": [
    "# Getting the header of the transpose dataframe \n",
    "new_header = df_dep.T.iloc[0]\n",
    "new_header"
   ]
  },
  {
   "cell_type": "code",
   "execution_count": 10,
   "id": "0c354afc",
   "metadata": {
    "scrolled": true
   },
   "outputs": [
    {
     "name": "stderr",
     "output_type": "stream",
     "text": [
      "/var/folders/9f/n36r4f3s7qsf6wgq534gqhbh0000gn/T/ipykernel_6251/3363352293.py:1: UserWarning: Pandas doesn't allow columns to be created via a new attribute name - see https://pandas.pydata.org/pandas-docs/stable/indexing.html#attribute-access\n",
      "  df_dep.T_new = df_dep.T.iloc[1:]\n"
     ]
    },
    {
     "data": {
      "text/html": [
       "<div>\n",
       "<style scoped>\n",
       "    .dataframe tbody tr th:only-of-type {\n",
       "        vertical-align: middle;\n",
       "    }\n",
       "\n",
       "    .dataframe tbody tr th {\n",
       "        vertical-align: top;\n",
       "    }\n",
       "\n",
       "    .dataframe thead th {\n",
       "        text-align: right;\n",
       "    }\n",
       "</style>\n",
       "<table border=\"1\" class=\"dataframe\">\n",
       "  <thead>\n",
       "    <tr style=\"text-align: right;\">\n",
       "      <th></th>\n",
       "      <th>0</th>\n",
       "    </tr>\n",
       "  </thead>\n",
       "  <tbody>\n",
       "    <tr>\n",
       "      <th>1</th>\n",
       "      <td>frozen</td>\n",
       "    </tr>\n",
       "    <tr>\n",
       "      <th>2</th>\n",
       "      <td>other</td>\n",
       "    </tr>\n",
       "    <tr>\n",
       "      <th>3</th>\n",
       "      <td>bakery</td>\n",
       "    </tr>\n",
       "    <tr>\n",
       "      <th>4</th>\n",
       "      <td>produce</td>\n",
       "    </tr>\n",
       "    <tr>\n",
       "      <th>5</th>\n",
       "      <td>alcohol</td>\n",
       "    </tr>\n",
       "  </tbody>\n",
       "</table>\n",
       "</div>"
      ],
      "text/plain": [
       "         0\n",
       "1   frozen\n",
       "2    other\n",
       "3   bakery\n",
       "4  produce\n",
       "5  alcohol"
      ]
     },
     "execution_count": 10,
     "metadata": {},
     "output_type": "execute_result"
    }
   ],
   "source": [
    "#  Indexing the dataframne of the department starting from 1:\n",
    "df_dep.T_new = df_dep.T.iloc[1:]\n",
    "\n",
    "df_dep.T_new.head()"
   ]
  },
  {
   "cell_type": "code",
   "execution_count": 11,
   "id": "db78faba",
   "metadata": {
    "scrolled": true
   },
   "outputs": [
    {
     "data": {
      "text/html": [
       "<div>\n",
       "<style scoped>\n",
       "    .dataframe tbody tr th:only-of-type {\n",
       "        vertical-align: middle;\n",
       "    }\n",
       "\n",
       "    .dataframe tbody tr th {\n",
       "        vertical-align: top;\n",
       "    }\n",
       "\n",
       "    .dataframe thead th {\n",
       "        text-align: right;\n",
       "    }\n",
       "</style>\n",
       "<table border=\"1\" class=\"dataframe\">\n",
       "  <thead>\n",
       "    <tr style=\"text-align: right;\">\n",
       "      <th>department_id</th>\n",
       "      <th>department</th>\n",
       "    </tr>\n",
       "  </thead>\n",
       "  <tbody>\n",
       "    <tr>\n",
       "      <th>1</th>\n",
       "      <td>frozen</td>\n",
       "    </tr>\n",
       "    <tr>\n",
       "      <th>2</th>\n",
       "      <td>other</td>\n",
       "    </tr>\n",
       "    <tr>\n",
       "      <th>3</th>\n",
       "      <td>bakery</td>\n",
       "    </tr>\n",
       "    <tr>\n",
       "      <th>4</th>\n",
       "      <td>produce</td>\n",
       "    </tr>\n",
       "    <tr>\n",
       "      <th>5</th>\n",
       "      <td>alcohol</td>\n",
       "    </tr>\n",
       "  </tbody>\n",
       "</table>\n",
       "</div>"
      ],
      "text/plain": [
       "department_id department\n",
       "1                 frozen\n",
       "2                  other\n",
       "3                 bakery\n",
       "4                produce\n",
       "5                alcohol"
      ]
     },
     "execution_count": 11,
     "metadata": {},
     "output_type": "execute_result"
    }
   ],
   "source": [
    "# Assigning the header created to the new dataframe created\n",
    "df_dep.T_new.columns = new_header\n",
    "df_dep.T_new.head()"
   ]
  },
  {
   "cell_type": "code",
   "execution_count": 13,
   "id": "3982c788",
   "metadata": {},
   "outputs": [],
   "source": [
    "# Saving the new transpose department dataframe as CSV\n",
    "df_dep.T_new.to_csv('/Users/shaqurcasco/Downloads/ Instacart Basket June: 26: 2023 CF/3 SCRIPT/CF Achievement 4/department_wrangling.csv')"
   ]
  },
  {
   "cell_type": "markdown",
   "id": "8ba22022",
   "metadata": {},
   "source": [
    "### 9.0  Creating dictionary of the new wrangled department dataframe                             "
   ]
  },
  {
   "cell_type": "code",
   "execution_count": 65,
   "id": "e56a6b35",
   "metadata": {},
   "outputs": [],
   "source": [
    "# create dictionary of wrangled department dataframe\n",
    "dic = df_dep.T_new.to_dict('index')"
   ]
  },
  {
   "cell_type": "code",
   "execution_count": 66,
   "id": "bf1a5055",
   "metadata": {
    "scrolled": true
   },
   "outputs": [
    {
     "data": {
      "text/plain": [
       "{'1': {'department': 'frozen'},\n",
       " '2': {'department': 'other'},\n",
       " '3': {'department': 'bakery'},\n",
       " '4': {'department': 'produce'},\n",
       " '5': {'department': 'alcohol'},\n",
       " '6': {'department': 'international'},\n",
       " '7': {'department': 'beverages'},\n",
       " '8': {'department': 'pets'},\n",
       " '9': {'department': 'dry goods pasta'},\n",
       " '10': {'department': 'bulk'},\n",
       " '11': {'department': 'personal care'},\n",
       " '12': {'department': 'meat seafood'},\n",
       " '13': {'department': 'pantry'},\n",
       " '14': {'department': 'breakfast'},\n",
       " '15': {'department': 'canned goods'},\n",
       " '16': {'department': 'dairy eggs'},\n",
       " '17': {'department': 'household'},\n",
       " '18': {'department': 'babies'},\n",
       " '19': {'department': 'snacks'},\n",
       " '20': {'department': 'deli'},\n",
       " '21': {'department': 'missing'}}"
      ]
     },
     "execution_count": 66,
     "metadata": {},
     "output_type": "execute_result"
    }
   ],
   "source": [
    "dic"
   ]
  },
  {
   "cell_type": "markdown",
   "id": "3ce12e10",
   "metadata": {},
   "source": [
    "#### QUESTION 5. Determine the meaning behind a value of 4 in the \"department_id\" column within the df_prods dataframe using a data dictionary"
   ]
  },
  {
   "cell_type": "code",
   "execution_count": 68,
   "id": "3675dcc1",
   "metadata": {
    "scrolled": true
   },
   "outputs": [
    {
     "name": "stdout",
     "output_type": "stream",
     "text": [
      "{'department': 'produce'}\n"
     ]
    }
   ],
   "source": [
    "# Getting the department of the value 4\n",
    "print(dic.get('4'))"
   ]
  },
  {
   "cell_type": "markdown",
   "id": "c7e4bfbf",
   "metadata": {},
   "source": [
    "### 10 Importing Product dataset "
   ]
  },
  {
   "cell_type": "code",
   "execution_count": 70,
   "id": "8af55b66",
   "metadata": {},
   "outputs": [
    {
     "data": {
      "text/html": [
       "<div>\n",
       "<style scoped>\n",
       "    .dataframe tbody tr th:only-of-type {\n",
       "        vertical-align: middle;\n",
       "    }\n",
       "\n",
       "    .dataframe tbody tr th {\n",
       "        vertical-align: top;\n",
       "    }\n",
       "\n",
       "    .dataframe thead th {\n",
       "        text-align: right;\n",
       "    }\n",
       "</style>\n",
       "<table border=\"1\" class=\"dataframe\">\n",
       "  <thead>\n",
       "    <tr style=\"text-align: right;\">\n",
       "      <th></th>\n",
       "      <th>product_id</th>\n",
       "      <th>product_name</th>\n",
       "      <th>aisle_id</th>\n",
       "      <th>department_id</th>\n",
       "      <th>prices</th>\n",
       "    </tr>\n",
       "  </thead>\n",
       "  <tbody>\n",
       "    <tr>\n",
       "      <th>0</th>\n",
       "      <td>1</td>\n",
       "      <td>Chocolate Sandwich Cookies</td>\n",
       "      <td>61</td>\n",
       "      <td>19</td>\n",
       "      <td>5.8</td>\n",
       "    </tr>\n",
       "    <tr>\n",
       "      <th>1</th>\n",
       "      <td>2</td>\n",
       "      <td>All-Seasons Salt</td>\n",
       "      <td>104</td>\n",
       "      <td>13</td>\n",
       "      <td>9.3</td>\n",
       "    </tr>\n",
       "    <tr>\n",
       "      <th>2</th>\n",
       "      <td>3</td>\n",
       "      <td>Robust Golden Unsweetened Oolong Tea</td>\n",
       "      <td>94</td>\n",
       "      <td>7</td>\n",
       "      <td>4.5</td>\n",
       "    </tr>\n",
       "    <tr>\n",
       "      <th>3</th>\n",
       "      <td>4</td>\n",
       "      <td>Smart Ones Classic Favorites Mini Rigatoni Wit...</td>\n",
       "      <td>38</td>\n",
       "      <td>1</td>\n",
       "      <td>10.5</td>\n",
       "    </tr>\n",
       "    <tr>\n",
       "      <th>4</th>\n",
       "      <td>5</td>\n",
       "      <td>Green Chile Anytime Sauce</td>\n",
       "      <td>5</td>\n",
       "      <td>13</td>\n",
       "      <td>4.3</td>\n",
       "    </tr>\n",
       "  </tbody>\n",
       "</table>\n",
       "</div>"
      ],
      "text/plain": [
       "   product_id                                       product_name  aisle_id  \\\n",
       "0           1                         Chocolate Sandwich Cookies        61   \n",
       "1           2                                   All-Seasons Salt       104   \n",
       "2           3               Robust Golden Unsweetened Oolong Tea        94   \n",
       "3           4  Smart Ones Classic Favorites Mini Rigatoni Wit...        38   \n",
       "4           5                          Green Chile Anytime Sauce         5   \n",
       "\n",
       "   department_id  prices  \n",
       "0             19     5.8  \n",
       "1             13     9.3  \n",
       "2              7     4.5  \n",
       "3              1    10.5  \n",
       "4             13     4.3  "
      ]
     },
     "execution_count": 70,
     "metadata": {},
     "output_type": "execute_result"
    }
   ],
   "source": [
    "# importing the product dataset\n",
    "df_prod = pd.read_csv('Downloads/CF_products.csv')\n",
    "df_prod.head()"
   ]
  },
  {
   "cell_type": "code",
   "execution_count": 72,
   "id": "20461a6a",
   "metadata": {},
   "outputs": [
    {
     "data": {
      "text/html": [
       "<div>\n",
       "<style scoped>\n",
       "    .dataframe tbody tr th:only-of-type {\n",
       "        vertical-align: middle;\n",
       "    }\n",
       "\n",
       "    .dataframe tbody tr th {\n",
       "        vertical-align: top;\n",
       "    }\n",
       "\n",
       "    .dataframe thead th {\n",
       "        text-align: right;\n",
       "    }\n",
       "</style>\n",
       "<table border=\"1\" class=\"dataframe\">\n",
       "  <thead>\n",
       "    <tr style=\"text-align: right;\">\n",
       "      <th></th>\n",
       "      <th>product_id</th>\n",
       "      <th>product_name</th>\n",
       "      <th>aisle_id</th>\n",
       "      <th>department_id</th>\n",
       "      <th>prices</th>\n",
       "    </tr>\n",
       "  </thead>\n",
       "  <tbody>\n",
       "    <tr>\n",
       "      <th>30</th>\n",
       "      <td>31</td>\n",
       "      <td>White Pearl Onions</td>\n",
       "      <td>123</td>\n",
       "      <td>4</td>\n",
       "      <td>7.5</td>\n",
       "    </tr>\n",
       "    <tr>\n",
       "      <th>42</th>\n",
       "      <td>43</td>\n",
       "      <td>Organic Clementines</td>\n",
       "      <td>123</td>\n",
       "      <td>4</td>\n",
       "      <td>11.5</td>\n",
       "    </tr>\n",
       "    <tr>\n",
       "      <th>44</th>\n",
       "      <td>45</td>\n",
       "      <td>European Cucumber</td>\n",
       "      <td>83</td>\n",
       "      <td>4</td>\n",
       "      <td>14.3</td>\n",
       "    </tr>\n",
       "    <tr>\n",
       "      <th>65</th>\n",
       "      <td>66</td>\n",
       "      <td>European Style Spring Mix</td>\n",
       "      <td>123</td>\n",
       "      <td>4</td>\n",
       "      <td>11.7</td>\n",
       "    </tr>\n",
       "    <tr>\n",
       "      <th>88</th>\n",
       "      <td>89</td>\n",
       "      <td>Yogurt Fruit Dip Sliced Apples</td>\n",
       "      <td>123</td>\n",
       "      <td>4</td>\n",
       "      <td>12.6</td>\n",
       "    </tr>\n",
       "    <tr>\n",
       "      <th>...</th>\n",
       "      <td>...</td>\n",
       "      <td>...</td>\n",
       "      <td>...</td>\n",
       "      <td>...</td>\n",
       "      <td>...</td>\n",
       "    </tr>\n",
       "    <tr>\n",
       "      <th>49582</th>\n",
       "      <td>49578</td>\n",
       "      <td>Black Garlic Bulbs</td>\n",
       "      <td>123</td>\n",
       "      <td>4</td>\n",
       "      <td>8.0</td>\n",
       "    </tr>\n",
       "    <tr>\n",
       "      <th>49623</th>\n",
       "      <td>49619</td>\n",
       "      <td>Opo Squash</td>\n",
       "      <td>83</td>\n",
       "      <td>4</td>\n",
       "      <td>12.7</td>\n",
       "    </tr>\n",
       "    <tr>\n",
       "      <th>49639</th>\n",
       "      <td>49635</td>\n",
       "      <td>Baby Food Blueberry, Parsnip &amp; Buckwheat Stage 2</td>\n",
       "      <td>83</td>\n",
       "      <td>4</td>\n",
       "      <td>12.5</td>\n",
       "    </tr>\n",
       "    <tr>\n",
       "      <th>49661</th>\n",
       "      <td>49657</td>\n",
       "      <td>Cabernet Tomatoes</td>\n",
       "      <td>83</td>\n",
       "      <td>4</td>\n",
       "      <td>8.3</td>\n",
       "    </tr>\n",
       "    <tr>\n",
       "      <th>49687</th>\n",
       "      <td>49683</td>\n",
       "      <td>Cucumber Kirby</td>\n",
       "      <td>83</td>\n",
       "      <td>4</td>\n",
       "      <td>13.2</td>\n",
       "    </tr>\n",
       "  </tbody>\n",
       "</table>\n",
       "<p>1684 rows × 5 columns</p>\n",
       "</div>"
      ],
      "text/plain": [
       "       product_id                                      product_name  aisle_id  \\\n",
       "30             31                                White Pearl Onions       123   \n",
       "42             43                               Organic Clementines       123   \n",
       "44             45                                 European Cucumber        83   \n",
       "65             66                         European Style Spring Mix       123   \n",
       "88             89                    Yogurt Fruit Dip Sliced Apples       123   \n",
       "...           ...                                               ...       ...   \n",
       "49582       49578                                Black Garlic Bulbs       123   \n",
       "49623       49619                                        Opo Squash        83   \n",
       "49639       49635  Baby Food Blueberry, Parsnip & Buckwheat Stage 2        83   \n",
       "49661       49657                                 Cabernet Tomatoes        83   \n",
       "49687       49683                                    Cucumber Kirby        83   \n",
       "\n",
       "       department_id  prices  \n",
       "30                 4     7.5  \n",
       "42                 4    11.5  \n",
       "44                 4    14.3  \n",
       "65                 4    11.7  \n",
       "88                 4    12.6  \n",
       "...              ...     ...  \n",
       "49582              4     8.0  \n",
       "49623              4    12.7  \n",
       "49639              4    12.5  \n",
       "49661              4     8.3  \n",
       "49687              4    13.2  \n",
       "\n",
       "[1684 rows x 5 columns]"
      ]
     },
     "execution_count": 72,
     "metadata": {},
     "output_type": "execute_result"
    }
   ],
   "source": [
    "# Getting the produce dataframe with department id = 4\n",
    "df_produce = df_prod.loc[df_prod[\"department_id\"]==4]\n",
    "df_produce.head()"
   ]
  },
  {
   "cell_type": "markdown",
   "id": "4b11ae3f",
   "metadata": {},
   "source": [
    "### 11 Creating subset using isin"
   ]
  },
  {
   "cell_type": "markdown",
   "id": "6c818e5a",
   "metadata": {},
   "source": [
    "Question 6: The sales team in your client’s organization wants to know more about breakfast item sales. \n",
    "Create a subset containing only the required information."
   ]
  },
  {
   "cell_type": "code",
   "execution_count": 74,
   "id": "a1de23f3",
   "metadata": {
    "scrolled": true
   },
   "outputs": [
    {
     "data": {
      "text/html": [
       "<div>\n",
       "<style scoped>\n",
       "    .dataframe tbody tr th:only-of-type {\n",
       "        vertical-align: middle;\n",
       "    }\n",
       "\n",
       "    .dataframe tbody tr th {\n",
       "        vertical-align: top;\n",
       "    }\n",
       "\n",
       "    .dataframe thead th {\n",
       "        text-align: right;\n",
       "    }\n",
       "</style>\n",
       "<table border=\"1\" class=\"dataframe\">\n",
       "  <thead>\n",
       "    <tr style=\"text-align: right;\">\n",
       "      <th></th>\n",
       "      <th>product_id</th>\n",
       "      <th>product_name</th>\n",
       "      <th>aisle_id</th>\n",
       "      <th>department_id</th>\n",
       "      <th>prices</th>\n",
       "    </tr>\n",
       "  </thead>\n",
       "  <tbody>\n",
       "    <tr>\n",
       "      <th>30</th>\n",
       "      <td>31</td>\n",
       "      <td>White Pearl Onions</td>\n",
       "      <td>123</td>\n",
       "      <td>4</td>\n",
       "      <td>7.5</td>\n",
       "    </tr>\n",
       "    <tr>\n",
       "      <th>42</th>\n",
       "      <td>43</td>\n",
       "      <td>Organic Clementines</td>\n",
       "      <td>123</td>\n",
       "      <td>4</td>\n",
       "      <td>11.5</td>\n",
       "    </tr>\n",
       "    <tr>\n",
       "      <th>44</th>\n",
       "      <td>45</td>\n",
       "      <td>European Cucumber</td>\n",
       "      <td>83</td>\n",
       "      <td>4</td>\n",
       "      <td>14.3</td>\n",
       "    </tr>\n",
       "    <tr>\n",
       "      <th>65</th>\n",
       "      <td>66</td>\n",
       "      <td>European Style Spring Mix</td>\n",
       "      <td>123</td>\n",
       "      <td>4</td>\n",
       "      <td>11.7</td>\n",
       "    </tr>\n",
       "    <tr>\n",
       "      <th>88</th>\n",
       "      <td>89</td>\n",
       "      <td>Yogurt Fruit Dip Sliced Apples</td>\n",
       "      <td>123</td>\n",
       "      <td>4</td>\n",
       "      <td>12.6</td>\n",
       "    </tr>\n",
       "  </tbody>\n",
       "</table>\n",
       "</div>"
      ],
      "text/plain": [
       "    product_id                    product_name  aisle_id  department_id  \\\n",
       "30          31              White Pearl Onions       123              4   \n",
       "42          43             Organic Clementines       123              4   \n",
       "44          45               European Cucumber        83              4   \n",
       "65          66       European Style Spring Mix       123              4   \n",
       "88          89  Yogurt Fruit Dip Sliced Apples       123              4   \n",
       "\n",
       "    prices  \n",
       "30     7.5  \n",
       "42    11.5  \n",
       "44    14.3  \n",
       "65    11.7  \n",
       "88    12.6  "
      ]
     },
     "execution_count": 74,
     "metadata": {},
     "output_type": "execute_result"
    }
   ],
   "source": [
    "Creating subset using isin() with department id = 4\n",
    "df_breakfast = df_prod.loc[df_prod[\"department_id\"].isin([4])]\n",
    "df_breakfast.head()"
   ]
  },
  {
   "cell_type": "markdown",
   "id": "ad7a818c",
   "metadata": {},
   "source": [
    "###### QUESTION 7 : They’d also like to see details about products that customers might use to throw dinner parties.Your task is to find all observations from the entire dataframe that include items from the following departments: alcohol, deli, beverages, and meat/seafood. You’ll need to present this subset to your client."
   ]
  },
  {
   "cell_type": "code",
   "execution_count": 76,
   "id": "8a168dda",
   "metadata": {},
   "outputs": [
    {
     "data": {
      "text/html": [
       "<div>\n",
       "<style scoped>\n",
       "    .dataframe tbody tr th:only-of-type {\n",
       "        vertical-align: middle;\n",
       "    }\n",
       "\n",
       "    .dataframe tbody tr th {\n",
       "        vertical-align: top;\n",
       "    }\n",
       "\n",
       "    .dataframe thead th {\n",
       "        text-align: right;\n",
       "    }\n",
       "</style>\n",
       "<table border=\"1\" class=\"dataframe\">\n",
       "  <thead>\n",
       "    <tr style=\"text-align: right;\">\n",
       "      <th></th>\n",
       "      <th>product_id</th>\n",
       "      <th>product_name</th>\n",
       "      <th>aisle_id</th>\n",
       "      <th>department_id</th>\n",
       "      <th>prices</th>\n",
       "    </tr>\n",
       "  </thead>\n",
       "  <tbody>\n",
       "    <tr>\n",
       "      <th>2</th>\n",
       "      <td>3</td>\n",
       "      <td>Robust Golden Unsweetened Oolong Tea</td>\n",
       "      <td>94</td>\n",
       "      <td>7</td>\n",
       "      <td>4.5</td>\n",
       "    </tr>\n",
       "    <tr>\n",
       "      <th>6</th>\n",
       "      <td>7</td>\n",
       "      <td>Pure Coconut Water With Orange</td>\n",
       "      <td>98</td>\n",
       "      <td>7</td>\n",
       "      <td>4.4</td>\n",
       "    </tr>\n",
       "    <tr>\n",
       "      <th>9</th>\n",
       "      <td>10</td>\n",
       "      <td>Sparkling Orange Juice &amp; Prickly Pear Beverage</td>\n",
       "      <td>115</td>\n",
       "      <td>7</td>\n",
       "      <td>8.4</td>\n",
       "    </tr>\n",
       "    <tr>\n",
       "      <th>10</th>\n",
       "      <td>11</td>\n",
       "      <td>Peach Mango Juice</td>\n",
       "      <td>31</td>\n",
       "      <td>7</td>\n",
       "      <td>2.8</td>\n",
       "    </tr>\n",
       "    <tr>\n",
       "      <th>16</th>\n",
       "      <td>17</td>\n",
       "      <td>Rendered Duck Fat</td>\n",
       "      <td>35</td>\n",
       "      <td>12</td>\n",
       "      <td>17.1</td>\n",
       "    </tr>\n",
       "  </tbody>\n",
       "</table>\n",
       "</div>"
      ],
      "text/plain": [
       "    product_id                                    product_name  aisle_id  \\\n",
       "2            3            Robust Golden Unsweetened Oolong Tea        94   \n",
       "6            7                  Pure Coconut Water With Orange        98   \n",
       "9           10  Sparkling Orange Juice & Prickly Pear Beverage       115   \n",
       "10          11                               Peach Mango Juice        31   \n",
       "16          17                               Rendered Duck Fat        35   \n",
       "\n",
       "    department_id  prices  \n",
       "2               7     4.5  \n",
       "6               7     4.4  \n",
       "9               7     8.4  \n",
       "10              7     2.8  \n",
       "16             12    17.1  "
      ]
     },
     "execution_count": 76,
     "metadata": {},
     "output_type": "execute_result"
    }
   ],
   "source": [
    "# Listing subset for the dinner party with department id = 5,7,12,20\n",
    "df_dinnerparties = df_prod.loc[df_prod['department_id'].isin([5,7,12,20])]\n",
    "df_dinnerparties.head()"
   ]
  },
  {
   "cell_type": "markdown",
   "id": "1680a2cd",
   "metadata": {},
   "source": [
    "##### Question 8 It’s important that you keep track of total counts in your dataframes. How many rows does the last dataframe you created have?"
   ]
  },
  {
   "cell_type": "code",
   "execution_count": 77,
   "id": "c04a1e78",
   "metadata": {},
   "outputs": [
    {
     "data": {
      "text/plain": [
       "(7650, 5)"
      ]
     },
     "execution_count": 77,
     "metadata": {},
     "output_type": "execute_result"
    }
   ],
   "source": [
    "#checking the columns a d rows of the subset dinner-party \n",
    "df_dinnerparties.shape"
   ]
  },
  {
   "cell_type": "markdown",
   "id": "556a180e",
   "metadata": {},
   "source": [
    " The number of row is 7650 and row is 5"
   ]
  },
  {
   "cell_type": "markdown",
   "id": "5ae2cf43",
   "metadata": {},
   "source": [
    "##### Questuion 9 Someone from the data engineers team in Instacart thinks they’ve spotted something strange about the customer with a \"user_id\" of “1.”Extract all the information you can about this user."
   ]
  },
  {
   "cell_type": "code",
   "execution_count": 80,
   "id": "ded0388d",
   "metadata": {},
   "outputs": [
    {
     "data": {
      "text/html": [
       "<div>\n",
       "<style scoped>\n",
       "    .dataframe tbody tr th:only-of-type {\n",
       "        vertical-align: middle;\n",
       "    }\n",
       "\n",
       "    .dataframe tbody tr th {\n",
       "        vertical-align: top;\n",
       "    }\n",
       "\n",
       "    .dataframe thead th {\n",
       "        text-align: right;\n",
       "    }\n",
       "</style>\n",
       "<table border=\"1\" class=\"dataframe\">\n",
       "  <thead>\n",
       "    <tr style=\"text-align: right;\">\n",
       "      <th></th>\n",
       "      <th>order_id</th>\n",
       "      <th>user_id</th>\n",
       "      <th>eval_set</th>\n",
       "      <th>order_number</th>\n",
       "      <th>order_dow</th>\n",
       "      <th>order_hour_of_day</th>\n",
       "      <th>days_since_prior_order</th>\n",
       "    </tr>\n",
       "  </thead>\n",
       "  <tbody>\n",
       "    <tr>\n",
       "      <th>0</th>\n",
       "      <td>2539329</td>\n",
       "      <td>1</td>\n",
       "      <td>prior</td>\n",
       "      <td>1</td>\n",
       "      <td>2</td>\n",
       "      <td>8</td>\n",
       "      <td>NaN</td>\n",
       "    </tr>\n",
       "    <tr>\n",
       "      <th>1</th>\n",
       "      <td>2398795</td>\n",
       "      <td>1</td>\n",
       "      <td>prior</td>\n",
       "      <td>2</td>\n",
       "      <td>3</td>\n",
       "      <td>7</td>\n",
       "      <td>15.0</td>\n",
       "    </tr>\n",
       "    <tr>\n",
       "      <th>2</th>\n",
       "      <td>473747</td>\n",
       "      <td>1</td>\n",
       "      <td>prior</td>\n",
       "      <td>3</td>\n",
       "      <td>3</td>\n",
       "      <td>12</td>\n",
       "      <td>21.0</td>\n",
       "    </tr>\n",
       "    <tr>\n",
       "      <th>3</th>\n",
       "      <td>2254736</td>\n",
       "      <td>1</td>\n",
       "      <td>prior</td>\n",
       "      <td>4</td>\n",
       "      <td>4</td>\n",
       "      <td>7</td>\n",
       "      <td>29.0</td>\n",
       "    </tr>\n",
       "    <tr>\n",
       "      <th>4</th>\n",
       "      <td>431534</td>\n",
       "      <td>1</td>\n",
       "      <td>prior</td>\n",
       "      <td>5</td>\n",
       "      <td>4</td>\n",
       "      <td>15</td>\n",
       "      <td>28.0</td>\n",
       "    </tr>\n",
       "  </tbody>\n",
       "</table>\n",
       "</div>"
      ],
      "text/plain": [
       "   order_id  user_id eval_set  order_number  order_dow  order_hour_of_day  \\\n",
       "0   2539329        1    prior             1          2                  8   \n",
       "1   2398795        1    prior             2          3                  7   \n",
       "2    473747        1    prior             3          3                 12   \n",
       "3   2254736        1    prior             4          4                  7   \n",
       "4    431534        1    prior             5          4                 15   \n",
       "\n",
       "   days_since_prior_order  \n",
       "0                     NaN  \n",
       "1                    15.0  \n",
       "2                    21.0  \n",
       "3                    29.0  \n",
       "4                    28.0  "
      ]
     },
     "execution_count": 80,
     "metadata": {},
     "output_type": "execute_result"
    }
   ],
   "source": [
    "# Listing subset for the dinner party with department id = 1 and assigning it as df_customer \n",
    "df_customer = df_ords.loc[df_ords['user_id'].isin([1])]\n",
    "df_customer.head()"
   ]
  },
  {
   "cell_type": "markdown",
   "id": "69a17583",
   "metadata": {},
   "source": [
    "##### Question 10: You also need to provide some details about this user’s behavior. What basic stats can you provide based on the information you have?"
   ]
  },
  {
   "cell_type": "code",
   "execution_count": 81,
   "id": "977e83c7",
   "metadata": {},
   "outputs": [
    {
     "data": {
      "text/html": [
       "<div>\n",
       "<style scoped>\n",
       "    .dataframe tbody tr th:only-of-type {\n",
       "        vertical-align: middle;\n",
       "    }\n",
       "\n",
       "    .dataframe tbody tr th {\n",
       "        vertical-align: top;\n",
       "    }\n",
       "\n",
       "    .dataframe thead th {\n",
       "        text-align: right;\n",
       "    }\n",
       "</style>\n",
       "<table border=\"1\" class=\"dataframe\">\n",
       "  <thead>\n",
       "    <tr style=\"text-align: right;\">\n",
       "      <th></th>\n",
       "      <th>order_id</th>\n",
       "      <th>user_id</th>\n",
       "      <th>order_number</th>\n",
       "      <th>order_dow</th>\n",
       "      <th>order_hour_of_day</th>\n",
       "      <th>days_since_prior_order</th>\n",
       "    </tr>\n",
       "  </thead>\n",
       "  <tbody>\n",
       "    <tr>\n",
       "      <th>count</th>\n",
       "      <td>1.100000e+01</td>\n",
       "      <td>11.0</td>\n",
       "      <td>11.000000</td>\n",
       "      <td>11.000000</td>\n",
       "      <td>11.000000</td>\n",
       "      <td>10.000000</td>\n",
       "    </tr>\n",
       "    <tr>\n",
       "      <th>mean</th>\n",
       "      <td>1.923450e+06</td>\n",
       "      <td>1.0</td>\n",
       "      <td>6.000000</td>\n",
       "      <td>2.636364</td>\n",
       "      <td>10.090909</td>\n",
       "      <td>19.000000</td>\n",
       "    </tr>\n",
       "    <tr>\n",
       "      <th>std</th>\n",
       "      <td>1.071950e+06</td>\n",
       "      <td>0.0</td>\n",
       "      <td>3.316625</td>\n",
       "      <td>1.286291</td>\n",
       "      <td>3.477198</td>\n",
       "      <td>9.030811</td>\n",
       "    </tr>\n",
       "    <tr>\n",
       "      <th>min</th>\n",
       "      <td>4.315340e+05</td>\n",
       "      <td>1.0</td>\n",
       "      <td>1.000000</td>\n",
       "      <td>1.000000</td>\n",
       "      <td>7.000000</td>\n",
       "      <td>0.000000</td>\n",
       "    </tr>\n",
       "    <tr>\n",
       "      <th>25%</th>\n",
       "      <td>8.690170e+05</td>\n",
       "      <td>1.0</td>\n",
       "      <td>3.500000</td>\n",
       "      <td>1.500000</td>\n",
       "      <td>7.500000</td>\n",
       "      <td>14.250000</td>\n",
       "    </tr>\n",
       "    <tr>\n",
       "      <th>50%</th>\n",
       "      <td>2.295261e+06</td>\n",
       "      <td>1.0</td>\n",
       "      <td>6.000000</td>\n",
       "      <td>3.000000</td>\n",
       "      <td>8.000000</td>\n",
       "      <td>19.500000</td>\n",
       "    </tr>\n",
       "    <tr>\n",
       "      <th>75%</th>\n",
       "      <td>2.544846e+06</td>\n",
       "      <td>1.0</td>\n",
       "      <td>8.500000</td>\n",
       "      <td>4.000000</td>\n",
       "      <td>13.000000</td>\n",
       "      <td>26.250000</td>\n",
       "    </tr>\n",
       "    <tr>\n",
       "      <th>max</th>\n",
       "      <td>3.367565e+06</td>\n",
       "      <td>1.0</td>\n",
       "      <td>11.000000</td>\n",
       "      <td>4.000000</td>\n",
       "      <td>16.000000</td>\n",
       "      <td>30.000000</td>\n",
       "    </tr>\n",
       "  </tbody>\n",
       "</table>\n",
       "</div>"
      ],
      "text/plain": [
       "           order_id  user_id  order_number  order_dow  order_hour_of_day  \\\n",
       "count  1.100000e+01     11.0     11.000000  11.000000          11.000000   \n",
       "mean   1.923450e+06      1.0      6.000000   2.636364          10.090909   \n",
       "std    1.071950e+06      0.0      3.316625   1.286291           3.477198   \n",
       "min    4.315340e+05      1.0      1.000000   1.000000           7.000000   \n",
       "25%    8.690170e+05      1.0      3.500000   1.500000           7.500000   \n",
       "50%    2.295261e+06      1.0      6.000000   3.000000           8.000000   \n",
       "75%    2.544846e+06      1.0      8.500000   4.000000          13.000000   \n",
       "max    3.367565e+06      1.0     11.000000   4.000000          16.000000   \n",
       "\n",
       "       days_since_prior_order  \n",
       "count               10.000000  \n",
       "mean                19.000000  \n",
       "std                  9.030811  \n",
       "min                  0.000000  \n",
       "25%                 14.250000  \n",
       "50%                 19.500000  \n",
       "75%                 26.250000  \n",
       "max                 30.000000  "
      ]
     },
     "execution_count": 81,
     "metadata": {},
     "output_type": "execute_result"
    }
   ],
   "source": [
    "# checking the statistics of the df_customer \n",
    "df_customer.describe()"
   ]
  },
  {
   "cell_type": "markdown",
   "id": "620e86af",
   "metadata": {},
   "source": [
    "### Task Step 12 - Exporting df_ords"
   ]
  },
  {
   "cell_type": "code",
   "execution_count": null,
   "id": "88e8ddc9",
   "metadata": {},
   "outputs": [],
   "source": [
    "# Saving the new transpose department dataframe as CSV\n",
    "df_dep.T_new.to_csv('/Users/shaqurcasco/Downloads/ Instacart Basket June: 26: 2023 CF/3 SCRIPT/CF Achievement 4/orders_wrangled.csv')"
   ]
  },
  {
   "cell_type": "markdown",
   "id": "4ad65454",
   "metadata": {},
   "source": [
    "### Task Step 12 - Exporting df_dep_T_new"
   ]
  },
  {
   "cell_type": "code",
   "execution_count": null,
   "id": "9cc5d672",
   "metadata": {},
   "outputs": [],
   "source": [
    "# Saving the new transpose department dataframe as CSV\n",
    "df_dep.T_new.to_csv('/Users/shaqurcasco/Downloads/ Instacart Basket June: 26: 2023 CF/3 SCRIPT/CF Achievement 4/department_wrangling.csv')"
   ]
  },
  {
   "cell_type": "code",
   "execution_count": null,
   "id": "a336b6b1",
   "metadata": {},
   "outputs": [],
   "source": []
  }
 ],
 "metadata": {
  "kernelspec": {
   "display_name": "Python 3 (ipykernel)",
   "language": "python",
   "name": "python3"
  },
  "language_info": {
   "codemirror_mode": {
    "name": "ipython",
    "version": 3
   },
   "file_extension": ".py",
   "mimetype": "text/x-python",
   "name": "python",
   "nbconvert_exporter": "python",
   "pygments_lexer": "ipython3",
   "version": "3.10.10"
  }
 },
 "nbformat": 4,
 "nbformat_minor": 5
}
