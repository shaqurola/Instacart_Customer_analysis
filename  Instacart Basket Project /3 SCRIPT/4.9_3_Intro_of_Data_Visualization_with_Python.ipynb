{
 "cells": [
  {
   "cell_type": "markdown",
   "id": "4d2eb1c9",
   "metadata": {},
   "source": [
    "### Contents \n",
    "##### 1.0 Importing Libraries\n",
    "##### 2.0 Importing Dataset\n",
    "##### 3.0 Creating Visualization \n",
    "##### 4.0 Creating of subset \n",
    "##### 5.0 Exporting the graph"
   ]
  },
  {
   "cell_type": "markdown",
   "id": "fdcdc81b",
   "metadata": {},
   "source": [
    "### 1.0 Importing Libraries"
   ]
  },
  {
   "cell_type": "code",
   "execution_count": 4,
   "id": "9a809c40",
   "metadata": {},
   "outputs": [],
   "source": [
    "import pandas as pd\n",
    "import numpy as np\n",
    "import os\n",
    "import matplotlib.pyplot as plt\n",
    "import seaborn as sns\n",
    "import scipy"
   ]
  },
  {
   "cell_type": "markdown",
   "id": "d9e0d62c",
   "metadata": {},
   "source": [
    "### 2.0 Importing Dataset"
   ]
  },
  {
   "cell_type": "code",
   "execution_count": 5,
   "id": "5085ec52",
   "metadata": {},
   "outputs": [],
   "source": [
    "df_ord_prods_cus = pd.read_pickle('/Users/shaqurcasco/Downloads/ Instacart Basket June: 26: 2023 CF/3 SCRIPT/CF Achievement 4/CF_Result_ords_prods_cus.pkl')"
   ]
  },
  {
   "cell_type": "code",
   "execution_count": 6,
   "id": "cd783ee0",
   "metadata": {},
   "outputs": [
    {
     "data": {
      "text/html": [
       "<div>\n",
       "<style scoped>\n",
       "    .dataframe tbody tr th:only-of-type {\n",
       "        vertical-align: middle;\n",
       "    }\n",
       "\n",
       "    .dataframe tbody tr th {\n",
       "        vertical-align: top;\n",
       "    }\n",
       "\n",
       "    .dataframe thead th {\n",
       "        text-align: right;\n",
       "    }\n",
       "</style>\n",
       "<table border=\"1\" class=\"dataframe\">\n",
       "  <thead>\n",
       "    <tr style=\"text-align: right;\">\n",
       "      <th></th>\n",
       "      <th>order_id</th>\n",
       "      <th>user_id</th>\n",
       "      <th>eval_set</th>\n",
       "      <th>order_number</th>\n",
       "      <th>order_days_of_the_week</th>\n",
       "      <th>order_hour_of_day</th>\n",
       "      <th>days_since_prior_order</th>\n",
       "      <th>product_id</th>\n",
       "      <th>add_to_cart_order</th>\n",
       "      <th>reordered</th>\n",
       "      <th>...</th>\n",
       "      <th>First Name</th>\n",
       "      <th>Last Name</th>\n",
       "      <th>Gender</th>\n",
       "      <th>State</th>\n",
       "      <th>Age</th>\n",
       "      <th>date_joined</th>\n",
       "      <th>No_of_dependants</th>\n",
       "      <th>family_status</th>\n",
       "      <th>income</th>\n",
       "      <th>_merge</th>\n",
       "    </tr>\n",
       "  </thead>\n",
       "  <tbody>\n",
       "    <tr>\n",
       "      <th>0</th>\n",
       "      <td>2539329</td>\n",
       "      <td>1</td>\n",
       "      <td>prior</td>\n",
       "      <td>1</td>\n",
       "      <td>2</td>\n",
       "      <td>8</td>\n",
       "      <td>NaN</td>\n",
       "      <td>196</td>\n",
       "      <td>1</td>\n",
       "      <td>0</td>\n",
       "      <td>...</td>\n",
       "      <td>Linda</td>\n",
       "      <td>Nguyen</td>\n",
       "      <td>Female</td>\n",
       "      <td>Alabama</td>\n",
       "      <td>31</td>\n",
       "      <td>2/17/2019</td>\n",
       "      <td>3</td>\n",
       "      <td>married</td>\n",
       "      <td>40423</td>\n",
       "      <td>both</td>\n",
       "    </tr>\n",
       "    <tr>\n",
       "      <th>1</th>\n",
       "      <td>2398795</td>\n",
       "      <td>1</td>\n",
       "      <td>prior</td>\n",
       "      <td>2</td>\n",
       "      <td>3</td>\n",
       "      <td>7</td>\n",
       "      <td>15.0</td>\n",
       "      <td>196</td>\n",
       "      <td>1</td>\n",
       "      <td>1</td>\n",
       "      <td>...</td>\n",
       "      <td>Linda</td>\n",
       "      <td>Nguyen</td>\n",
       "      <td>Female</td>\n",
       "      <td>Alabama</td>\n",
       "      <td>31</td>\n",
       "      <td>2/17/2019</td>\n",
       "      <td>3</td>\n",
       "      <td>married</td>\n",
       "      <td>40423</td>\n",
       "      <td>both</td>\n",
       "    </tr>\n",
       "    <tr>\n",
       "      <th>2</th>\n",
       "      <td>473747</td>\n",
       "      <td>1</td>\n",
       "      <td>prior</td>\n",
       "      <td>3</td>\n",
       "      <td>3</td>\n",
       "      <td>12</td>\n",
       "      <td>21.0</td>\n",
       "      <td>196</td>\n",
       "      <td>1</td>\n",
       "      <td>1</td>\n",
       "      <td>...</td>\n",
       "      <td>Linda</td>\n",
       "      <td>Nguyen</td>\n",
       "      <td>Female</td>\n",
       "      <td>Alabama</td>\n",
       "      <td>31</td>\n",
       "      <td>2/17/2019</td>\n",
       "      <td>3</td>\n",
       "      <td>married</td>\n",
       "      <td>40423</td>\n",
       "      <td>both</td>\n",
       "    </tr>\n",
       "    <tr>\n",
       "      <th>3</th>\n",
       "      <td>2254736</td>\n",
       "      <td>1</td>\n",
       "      <td>prior</td>\n",
       "      <td>4</td>\n",
       "      <td>4</td>\n",
       "      <td>7</td>\n",
       "      <td>29.0</td>\n",
       "      <td>196</td>\n",
       "      <td>1</td>\n",
       "      <td>1</td>\n",
       "      <td>...</td>\n",
       "      <td>Linda</td>\n",
       "      <td>Nguyen</td>\n",
       "      <td>Female</td>\n",
       "      <td>Alabama</td>\n",
       "      <td>31</td>\n",
       "      <td>2/17/2019</td>\n",
       "      <td>3</td>\n",
       "      <td>married</td>\n",
       "      <td>40423</td>\n",
       "      <td>both</td>\n",
       "    </tr>\n",
       "    <tr>\n",
       "      <th>4</th>\n",
       "      <td>431534</td>\n",
       "      <td>1</td>\n",
       "      <td>prior</td>\n",
       "      <td>5</td>\n",
       "      <td>4</td>\n",
       "      <td>15</td>\n",
       "      <td>28.0</td>\n",
       "      <td>196</td>\n",
       "      <td>1</td>\n",
       "      <td>1</td>\n",
       "      <td>...</td>\n",
       "      <td>Linda</td>\n",
       "      <td>Nguyen</td>\n",
       "      <td>Female</td>\n",
       "      <td>Alabama</td>\n",
       "      <td>31</td>\n",
       "      <td>2/17/2019</td>\n",
       "      <td>3</td>\n",
       "      <td>married</td>\n",
       "      <td>40423</td>\n",
       "      <td>both</td>\n",
       "    </tr>\n",
       "  </tbody>\n",
       "</table>\n",
       "<p>5 rows × 34 columns</p>\n",
       "</div>"
      ],
      "text/plain": [
       "   order_id  user_id eval_set  order_number  order_days_of_the_week  \\\n",
       "0   2539329        1    prior             1                       2   \n",
       "1   2398795        1    prior             2                       3   \n",
       "2    473747        1    prior             3                       3   \n",
       "3   2254736        1    prior             4                       4   \n",
       "4    431534        1    prior             5                       4   \n",
       "\n",
       "   order_hour_of_day  days_since_prior_order  product_id  add_to_cart_order  \\\n",
       "0                  8                     NaN         196                  1   \n",
       "1                  7                    15.0         196                  1   \n",
       "2                 12                    21.0         196                  1   \n",
       "3                  7                    29.0         196                  1   \n",
       "4                 15                    28.0         196                  1   \n",
       "\n",
       "   reordered  ... First Name  Last Name  Gender    State Age date_joined  \\\n",
       "0          0  ...      Linda     Nguyen  Female  Alabama  31   2/17/2019   \n",
       "1          1  ...      Linda     Nguyen  Female  Alabama  31   2/17/2019   \n",
       "2          1  ...      Linda     Nguyen  Female  Alabama  31   2/17/2019   \n",
       "3          1  ...      Linda     Nguyen  Female  Alabama  31   2/17/2019   \n",
       "4          1  ...      Linda     Nguyen  Female  Alabama  31   2/17/2019   \n",
       "\n",
       "  No_of_dependants family_status  income _merge  \n",
       "0                3       married   40423   both  \n",
       "1                3       married   40423   both  \n",
       "2                3       married   40423   both  \n",
       "3                3       married   40423   both  \n",
       "4                3       married   40423   both  \n",
       "\n",
       "[5 rows x 34 columns]"
      ]
     },
     "execution_count": 6,
     "metadata": {},
     "output_type": "execute_result"
    }
   ],
   "source": [
    "df_ord_prods_cus.head()"
   ]
  },
  {
   "cell_type": "markdown",
   "id": "fa86fbbf",
   "metadata": {},
   "source": [
    "### 3.0 Creating Visualization"
   ]
  },
  {
   "cell_type": "markdown",
   "id": "5d5b12af",
   "metadata": {},
   "source": [
    "Question. You need to provide the Instacart senior stakeholders with \n",
    "descriptive findings about sales. Create a histogram of the “order_hour_of_day” column.\n",
    "In a markdown cell beneath your histogram, describe what the histogram demonstrates."
   ]
  },
  {
   "cell_type": "code",
   "execution_count": 8,
   "id": "a44eeb27",
   "metadata": {},
   "outputs": [
    {
     "data": {
      "image/png": "[encoded data removed]",
      "text/plain": [
       "<Figure size 640x480 with 1 Axes>"
      ]
     },
     "metadata": {},
     "output_type": "display_data"
    }
   ],
   "source": [
    "#Creating bar chart of order of the day \n",
    "hist_order_hr_day = df_ord_prods_cus['order_hour_of_day'].plot(kind = 'hist', title = 'order_hour_of_day')"
   ]
  },
  {
   "cell_type": "markdown",
   "id": "d7203774",
   "metadata": {},
   "source": [
    "###### The Order hour of the day was low during the period when the customers are sleeping 5am but the order started increasing during the day around 9am untill it reaches it peaks at 15hours (3pm) afterward the order hour continue declining."
   ]
  },
  {
   "cell_type": "markdown",
   "id": "d92b6d4d",
   "metadata": {},
   "source": [
    "###### Question. The marketing team is curious about the distribution of orders among customers in terms of loyalty. Create a bar chart from the “loyalty_flag” column."
   ]
  },
  {
   "cell_type": "code",
   "execution_count": 9,
   "id": "9c483f8a",
   "metadata": {},
   "outputs": [
    {
     "data": {
      "image/png": "[encoded data removed]",
      "text/plain": [
       "<Figure size 640x480 with 1 Axes>"
      ]
     },
     "metadata": {},
     "output_type": "display_data"
    }
   ],
   "source": [
    "# Creating bar chart of loyalty flag\n",
    "bar_loyalty = df_ord_prods_cus['loyalty_flag'].value_counts().plot.bar(color =['green', 'blue', 'red'], title = 'loyalty_flag')"
   ]
  },
  {
   "cell_type": "markdown",
   "id": "e0d7aefe",
   "metadata": {},
   "source": [
    "#### The Regular customer have the highest partronage, followed by the loyal customer in instcart "
   ]
  },
  {
   "cell_type": "markdown",
   "id": "46dd8f6e",
   "metadata": {},
   "source": [
    "#### Question:Check whether there’s a difference in expenditure (the “prices” column) depending on the hour of the day. (Hint: To check this, you need to use an accurate sample for your line chart!)"
   ]
  },
  {
   "cell_type": "markdown",
   "id": "78f37a79",
   "metadata": {},
   "source": [
    "### 5.0. Creating of subset "
   ]
  },
  {
   "cell_type": "code",
   "execution_count": 14,
   "id": "d2fd22b2",
   "metadata": {},
   "outputs": [],
   "source": [
    "#creating a random subset of the dataset \n",
    "np.random.seed(4)\n",
    "dev4 = np.random.rand(len(df_ord_prods_cus)) <= 0.7"
   ]
  },
  {
   "cell_type": "code",
   "execution_count": 15,
   "id": "669be3ed",
   "metadata": {},
   "outputs": [
    {
     "data": {
      "text/plain": [
       "array([False,  True, False, ..., False,  True,  True])"
      ]
     },
     "execution_count": 15,
     "metadata": {},
     "output_type": "execute_result"
    }
   ],
   "source": [
    "dev4"
   ]
  },
  {
   "cell_type": "code",
   "execution_count": 16,
   "id": "fb245863",
   "metadata": {},
   "outputs": [
    {
     "data": {
      "text/plain": [
       "array([0.53426058, 0.1164678 , 0.14395424, 0.78195852, 0.62353212,\n",
       "       0.48137107, 0.86283216, 0.66335623, 0.51869021, 0.1310415 ])"
      ]
     },
     "execution_count": 16,
     "metadata": {},
     "output_type": "execute_result"
    }
   ],
   "source": [
    "np.random.rand(10)"
   ]
  },
  {
   "cell_type": "code",
   "execution_count": 17,
   "id": "c06a531f",
   "metadata": {},
   "outputs": [],
   "source": [
    "##### create a list true/false value to the test np.random.rand() <= 70\n",
    "dev4 = np.random.rand(len(df_ord_prods_cus)) <= 0.7"
   ]
  },
  {
   "cell_type": "code",
   "execution_count": 18,
   "id": "c321b7f6",
   "metadata": {},
   "outputs": [],
   "source": [
    "# store 70% of the sample in the dataframe big\n",
    "big = df_ord_prods_cus[dev4]"
   ]
  },
  {
   "cell_type": "code",
   "execution_count": 19,
   "id": "d4023379",
   "metadata": {},
   "outputs": [],
   "source": [
    "# store 30% of the sample in the dataframe small\n",
    "small = df_ord_prods_cus[~dev4]"
   ]
  },
  {
   "cell_type": "code",
   "execution_count": 20,
   "id": "a2ab917e",
   "metadata": {},
   "outputs": [
    {
     "data": {
      "text/plain": [
       "30629741"
      ]
     },
     "execution_count": 20,
     "metadata": {},
     "output_type": "execute_result"
    }
   ],
   "source": [
    "len(df_ord_prods_cus)"
   ]
  },
  {
   "cell_type": "code",
   "execution_count": 21,
   "id": "3a64ffa6",
   "metadata": {},
   "outputs": [
    {
     "data": {
      "text/plain": [
       "30629741"
      ]
     },
     "execution_count": 21,
     "metadata": {},
     "output_type": "execute_result"
    }
   ],
   "source": [
    "len(big) + len(small)"
   ]
  },
  {
   "cell_type": "code",
   "execution_count": 23,
   "id": "265c4bd8",
   "metadata": {},
   "outputs": [],
   "source": [
    "df_5 = small[['order_hour_of_day','prices']]"
   ]
  },
  {
   "cell_type": "code",
   "execution_count": 24,
   "id": "a64f6b2f",
   "metadata": {
    "scrolled": false
   },
   "outputs": [
    {
     "data": {
      "image/png": "[encoded data removed]",
      "text/plain": [
       "<Figure size 640x480 with 1 Axes>"
      ]
     },
     "metadata": {},
     "output_type": "display_data"
    }
   ],
   "source": [
    "#Creating a lineshape of the subset small\n",
    "line_3 = sns.lineplot(data = df_5, x = 'order_hour_of_day', y = 'prices')"
   ]
  },
  {
   "cell_type": "markdown",
   "id": "897f82aa",
   "metadata": {},
   "source": [
    "#### At the early hours of the day between 0hr to 4am the prices are low\n",
    "##### The price started increasing and get to its peak and afterward the prices are lower and  continue to fluatuate and dropped at around 18hrs (6pm) and again started increasing and falls at the later hr of the day "
   ]
  },
  {
   "cell_type": "markdown",
   "id": "8d73de84",
   "metadata": {},
   "source": [
    "##### Those are called error bands, and they represent the chart’s confidence intervals. In other words, if this line were a prediction, there would be a 95 percent probability that the predicted value would fall within the area of the error bands"
   ]
  },
  {
   "cell_type": "code",
   "execution_count": null,
   "id": "6eef0c83",
   "metadata": {},
   "outputs": [],
   "source": [
    "subset of the large dataset \n",
    "df_6 = big[['order_days_of_the_week','prices']]"
   ]
  },
  {
   "cell_type": "code",
   "execution_count": null,
   "id": "84477ff5",
   "metadata": {},
   "outputs": [],
   "source": [
    "line_5 = sns.lineplot(data = df_6, x = 'order_days_of_the_week', y = 'prices')"
   ]
  },
  {
   "cell_type": "markdown",
   "id": "8518b664",
   "metadata": {},
   "source": [
    "### 5.0 Exporting the graph"
   ]
  },
  {
   "cell_type": "code",
   "execution_count": 11,
   "id": "8e30d851",
   "metadata": {},
   "outputs": [],
   "source": [
    "hist_order_hr_day.figure.savefig('/Users/shaqurcasco/Downloads/ Instacart Basket June: 26: 2023 CF/3 SCRIPT/CF Achievement 4/hist_order_hr_day.png')"
   ]
  },
  {
   "cell_type": "code",
   "execution_count": 12,
   "id": "a910ff7f",
   "metadata": {},
   "outputs": [],
   "source": [
    "bar_loyalty.figure.savefig('/Users/shaqurcasco/Downloads/ Instacart Basket June: 26: 2023 CF/3 SCRIPT/CF Achievement 4/bar_loyalty.png')"
   ]
  },
  {
   "cell_type": "code",
   "execution_count": 25,
   "id": "b49d4106",
   "metadata": {},
   "outputs": [],
   "source": [
    "line_3.figure.savefig('/Users/shaqurcasco/Downloads/ Instacart Basket June: 26: 2023 CF/3 SCRIPT/CF Achievement 4/hr_day_pr_line_3.png')"
   ]
  },
  {
   "cell_type": "code",
   "execution_count": null,
   "id": "fe9b30da",
   "metadata": {},
   "outputs": [],
   "source": []
  },
  {
   "cell_type": "code",
   "execution_count": null,
   "id": "da86c8b9",
   "metadata": {},
   "outputs": [],
   "source": []
  }
 ],
 "metadata": {
  "kernelspec": {
   "display_name": "Python 3 (ipykernel)",
   "language": "python",
   "name": "python3"
  },
  "language_info": {
   "codemirror_mode": {
    "name": "ipython",
    "version": 3
   },
   "file_extension": ".py",
   "mimetype": "text/x-python",
   "name": "python",
   "nbconvert_exporter": "python",
   "pygments_lexer": "ipython3",
   "version": "3.10.10"
  }
 },
 "nbformat": 4,
 "nbformat_minor": 5
}
